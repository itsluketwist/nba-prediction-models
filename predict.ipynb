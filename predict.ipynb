{
 "cells": [
  {
   "cell_type": "markdown",
   "metadata": {},
   "source": [
    "# Make your own predictions! ⛹️\n",
    "\n",
    "This notebook will allow you to load and use the predictive models available here to generate your \n",
    "own predictions for future regular-season NBA games.\n",
    "\n",
    "The steps involved are:\n",
    "- Define your data file\n",
    "- Load the data\n",
    "- Select and load the model\n",
    "- Make the prediction\n",
    "\n",
    "Details on the definition of the data file:\n",
    "\n",
    "- A csv file of previous game data is needed before predictions can begin.\n",
    "- To predict the result of the upcoming game between HomeTeam and AwayTeam, the CSV needs to \n",
    "contain the results and statistics of each teams previous games.\n",
    "- The first record in the csv should contain the oldest game data, and the last record should contain game data closest to the game to predict.\n",
    "- The csv needs the columns listed below, where the `home` prefix refers to information about previous games of HomeTeam, and similarly `away` prefix for AwayTeam.\n",
    "- By default, the code expects the csv to have data from 8 previous games.\n",
    "- Example csv files are available in `data/predict_csv/`."
   ]
  },
  {
   "cell_type": "code",
   "execution_count": 15,
   "metadata": {},
   "outputs": [],
   "source": [
    "# 1. define your data file\n",
    "\n",
    "header_cols = [\n",
    "    \"home_win\",\n",
    "    \"home_home\",\n",
    "    \"home_close_game\",\n",
    "    \"home_ot_count\",\n",
    "    \"home_q1_points\",\n",
    "    \"home_q2_points\",\n",
    "    \"home_q3_points\",\n",
    "    \"home_q4_points\",\n",
    "    \"home_ot_points\",\n",
    "    \"home_final_points\",\n",
    "    \"home_field_made\",\n",
    "    \"home_field_percent\",\n",
    "    \"home_three_made\",\n",
    "    \"home_three_percent\",\n",
    "    \"home_free_made\",\n",
    "    \"home_free_percent\",\n",
    "    \"home_offensive_rebounds\",\n",
    "    \"home_defensive_rebounds\",\n",
    "    \"home_total_rebounds\",\n",
    "    \"home_assists\",\n",
    "    \"home_steals\",\n",
    "    \"home_blocks\",\n",
    "    \"home_turnovers\",\n",
    "    \"home_fouls\",\n",
    "    \"home_plus_minus\",\n",
    "    \"home_pts_paint\",\n",
    "    \"home_pts_2nd_chance\",\n",
    "    \"home_pts_fast_break\",\n",
    "    \"home_largest_lead\",\n",
    "    \"home_games_played\",\n",
    "    \"home_win_percent\",\n",
    "    \"home_opp_q1_points\",\n",
    "    \"home_opp_q2_points\",\n",
    "    \"home_opp_q3_points\",\n",
    "    \"home_opp_q4_points\",\n",
    "    \"home_opp_ot_points\",\n",
    "    \"home_opp_final_points\",\n",
    "    \"home_opp_field_made\",\n",
    "    \"home_opp_field_percent\",\n",
    "    \"home_opp_three_made\",\n",
    "    \"home_opp_three_percent\",\n",
    "    \"home_opp_free_made\",\n",
    "    \"home_opp_free_percent\",\n",
    "    \"home_opp_offensive_rebounds\",\n",
    "    \"home_opp_defensive_rebounds\",\n",
    "    \"home_opp_total_rebounds\",\n",
    "    \"home_opp_assists\",\n",
    "    \"home_opp_steals\",\n",
    "    \"home_opp_blocks\",\n",
    "    \"home_opp_turnovers\",\n",
    "    \"home_opp_fouls\",\n",
    "    \"home_opp_plus_minus\",\n",
    "    \"home_opp_pts_paint\",\n",
    "    \"home_opp_pts_2nd_chance\",\n",
    "    \"home_opp_pts_fast_break\",\n",
    "    \"home_opp_largest_lead\",\n",
    "    \"home_opp_games_played\",\n",
    "    \"home_opp_win_percent\",\n",
    "    \"away_win\",\n",
    "    \"away_home\",\n",
    "    \"away_close_game\",\n",
    "    \"away_ot_count\",\n",
    "    \"away_q1_points\",\n",
    "    \"away_q2_points\",\n",
    "    \"away_q3_points\",\n",
    "    \"away_q4_points\",\n",
    "    \"away_ot_points\",\n",
    "    \"away_final_points\",\n",
    "    \"away_field_made\",\n",
    "    \"away_field_percent\",\n",
    "    \"away_three_made\",\n",
    "    \"away_three_percent\",\n",
    "    \"away_free_made\",\n",
    "    \"away_free_percent\",\n",
    "    \"away_offensive_rebounds\",\n",
    "    \"away_defensive_rebounds\",\n",
    "    \"away_total_rebounds\",\n",
    "    \"away_assists\",\n",
    "    \"away_steals\",\n",
    "    \"away_blocks\",\n",
    "    \"away_turnovers\",\n",
    "    \"away_fouls\",\n",
    "    \"away_plus_minus\",\n",
    "    \"away_pts_paint\",\n",
    "    \"away_pts_2nd_chance\",\n",
    "    \"away_pts_fast_break\",\n",
    "    \"away_largest_lead\",\n",
    "    \"away_games_played\",\n",
    "    \"away_win_percent\",\n",
    "    \"away_opp_q1_points\",\n",
    "    \"away_opp_q2_points\",\n",
    "    \"away_opp_q3_points\",\n",
    "    \"away_opp_q4_points\",\n",
    "    \"away_opp_ot_points\",\n",
    "    \"away_opp_final_points\",\n",
    "    \"away_opp_field_made\",\n",
    "    \"away_opp_field_percent\",\n",
    "    \"away_opp_three_made\",\n",
    "    \"away_opp_three_percent\",\n",
    "    \"away_opp_free_made\",\n",
    "    \"away_opp_free_percent\",\n",
    "    \"away_opp_offensive_rebounds\",\n",
    "    \"away_opp_defensive_rebounds\",\n",
    "    \"away_opp_total_rebounds\",\n",
    "    \"away_opp_assists\",\n",
    "    \"away_opp_steals\",\n",
    "    \"away_opp_blocks\",\n",
    "    \"away_opp_turnovers\",\n",
    "    \"away_opp_fouls\",\n",
    "    \"away_opp_plus_minus\",\n",
    "    \"away_opp_pts_paint\",\n",
    "    \"away_opp_pts_2nd_chance\",\n",
    "    \"away_opp_pts_fast_break\",\n",
    "    \"away_opp_largest_lead\",\n",
    "    \"away_opp_games_played\",\n",
    "    \"away_opp_win_percent\",\n",
    "]"
   ]
  },
  {
   "cell_type": "code",
   "execution_count": 1,
   "metadata": {},
   "outputs": [
    {
     "name": "stdout",
     "output_type": "stream",
     "text": [
      "Loaded data of size: torch.Size([1, 8, 116])\n"
     ]
    }
   ],
   "source": [
    "# 2. load the data from .csv file\n",
    "\n",
    "from src.predict import load_record_from_csv\n",
    "\n",
    "csv_path = \"data/predict_csv/lac_home_win_vs_lal_2023_04_05.csv\"\n",
    "data = load_record_from_csv(file_path=csv_path)\n",
    "\n",
    "print(f\"Loaded data of size: {data.shape}\")"
   ]
  },
  {
   "cell_type": "code",
   "execution_count": 13,
   "metadata": {},
   "outputs": [
    {
     "name": "stdout",
     "output_type": "stream",
     "text": [
      "Loaded model: TCN\n"
     ]
    }
   ],
   "source": [
    "# 3. load the model from .pth file containing the state data\n",
    "\n",
    "from src.persist import load_model\n",
    "\n",
    "model_type = \"TCN\"  # choose between RNN, LSTM, GRU, TCN, TE\n",
    "model_path = f\"output/pretrained/{model_type}_state_data.pth\"\n",
    "model = load_model(file_path=model_path)\n",
    "\n",
    "print(f\"Loaded model: {model}\")"
   ]
  },
  {
   "cell_type": "code",
   "execution_count": 14,
   "metadata": {},
   "outputs": [
    {
     "name": "stdout",
     "output_type": "stream",
     "text": [
      "The HOME team will win.\n",
      "Home win prediction: 0.9627264142036438\n"
     ]
    }
   ],
   "source": [
    "# 4. run the prediction code on the model\n",
    "\n",
    "from src.predict import make_prediction\n",
    "\n",
    "pred = make_prediction(model=model, data=data)\n",
    "\n",
    "print(f\"Home win prediction: {pred}\")"
   ]
  },
  {
   "cell_type": "code",
   "execution_count": null,
   "metadata": {},
   "outputs": [],
   "source": []
  }
 ],
 "metadata": {
  "kernelspec": {
   "display_name": "venv",
   "language": "python",
   "name": "python3"
  },
  "language_info": {
   "codemirror_mode": {
    "name": "ipython",
    "version": 3
   },
   "file_extension": ".py",
   "mimetype": "text/x-python",
   "name": "python",
   "nbconvert_exporter": "python",
   "pygments_lexer": "ipython3",
   "version": "3.11.7"
  }
 },
 "nbformat": 4,
 "nbformat_minor": 2
}
