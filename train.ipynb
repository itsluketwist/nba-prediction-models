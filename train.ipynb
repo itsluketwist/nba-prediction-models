{
 "cells": [
  {
   "cell_type": "markdown",
   "metadata": {},
   "source": [
    "# Train the models! 👟\n",
    "\n",
    "This notebook imports training methods and models from the `src/` directory in order to train the models."
   ]
  },
  {
   "cell_type": "code",
   "execution_count": 1,
   "metadata": {},
   "outputs": [
    {
     "name": "stdout",
     "output_type": "stream",
     "text": [
      "cuda\n"
     ]
    },
    {
     "data": {
      "text/plain": [
       "<torch._C.Generator at 0x1adb8d010f0>"
      ]
     },
     "execution_count": 1,
     "metadata": {},
     "output_type": "execute_result"
    }
   ],
   "source": [
    "# setup imports\n",
    "from src.utils import device, check_dir\n",
    "from src.train import run_train\n",
    "from src import models\n",
    "from torchinfo import summary\n",
    "import torch\n",
    "\n",
    "\n",
    "print(device)  # check the device\n",
    "\n",
    "torch.manual_seed(0)  # make training reproducable"
   ]
  },
  {
   "cell_type": "markdown",
   "metadata": {},
   "source": [
    "## RNN - Recurrent Neural Network"
   ]
  },
  {
   "cell_type": "code",
   "execution_count": 2,
   "metadata": {},
   "outputs": [
    {
     "data": {
      "text/plain": [
       "=================================================================\n",
       "Layer (type:depth-idx)                   Param #\n",
       "=================================================================\n",
       "RNN                                      --\n",
       "├─RNN: 1-1                               4,435,968\n",
       "├─Linear: 1-2                            2,049\n",
       "├─Sigmoid: 1-3                           --\n",
       "=================================================================\n",
       "Total params: 4,438,017\n",
       "Trainable params: 4,438,017\n",
       "Non-trainable params: 0\n",
       "================================================================="
      ]
     },
     "execution_count": 2,
     "metadata": {},
     "output_type": "execute_result"
    }
   ],
   "source": [
    "rnn_model = models.RNN(\n",
    "    hidden_size=2048,\n",
    ")\n",
    "\n",
    "summary(rnn_model)"
   ]
  },
  {
   "cell_type": "code",
   "execution_count": null,
   "metadata": {},
   "outputs": [],
   "source": [
    "_m, _h = run_train(\n",
    "    # fixed\n",
    "    model=rnn_model,\n",
    "    sequence_len=8,\n",
    "    data_as_sequence=True,\n",
    "    output_path=check_dir(\"rnn\"),\n",
    "    # adjust\n",
    "    epochs=50,\n",
    "    init_learning_rate=1e-5,\n",
    "    weight_decay=1e-5,\n",
    "    # enable for final training\n",
    "    data_use_all=True,\n",
    ")"
   ]
  },
  {
   "cell_type": "markdown",
   "metadata": {},
   "source": [
    "# LSTM - Long Short-Term Memory"
   ]
  },
  {
   "cell_type": "code",
   "execution_count": 2,
   "metadata": {},
   "outputs": [
    {
     "data": {
      "text/plain": [
       "=================================================================\n",
       "Layer (type:depth-idx)                   Param #\n",
       "=================================================================\n",
       "LSTM                                     --\n",
       "├─LSTM: 1-1                              17,743,872\n",
       "├─Linear: 1-2                            2,049\n",
       "├─Sigmoid: 1-3                           --\n",
       "=================================================================\n",
       "Total params: 17,745,921\n",
       "Trainable params: 17,745,921\n",
       "Non-trainable params: 0\n",
       "================================================================="
      ]
     },
     "execution_count": 2,
     "metadata": {},
     "output_type": "execute_result"
    }
   ],
   "source": [
    "lstm_model = models.LSTM(\n",
    "    hidden_size=2048,\n",
    ")\n",
    "\n",
    "summary(lstm_model)"
   ]
  },
  {
   "cell_type": "code",
   "execution_count": null,
   "metadata": {},
   "outputs": [],
   "source": [
    "_m, _h = run_train(\n",
    "    # fixed\n",
    "    model=lstm_model,\n",
    "    sequence_len=8,\n",
    "    data_as_sequence=True,\n",
    "    output_path=check_dir(\"lstm\"),\n",
    "    # adjust\n",
    "    epochs=50,\n",
    "    init_learning_rate=1e-4,\n",
    "    weight_decay=1e-5,\n",
    "    # enable for final training\n",
    "    data_use_all=True,\n",
    ")"
   ]
  },
  {
   "cell_type": "markdown",
   "metadata": {},
   "source": [
    "# GRU - Gated Recurrent Unit"
   ]
  },
  {
   "cell_type": "code",
   "execution_count": 4,
   "metadata": {},
   "outputs": [
    {
     "data": {
      "text/plain": [
       "=================================================================\n",
       "Layer (type:depth-idx)                   Param #\n",
       "=================================================================\n",
       "GRU                                      --\n",
       "├─GRU: 1-1                               13,307,904\n",
       "├─Linear: 1-2                            2,049\n",
       "├─Sigmoid: 1-3                           --\n",
       "=================================================================\n",
       "Total params: 13,309,953\n",
       "Trainable params: 13,309,953\n",
       "Non-trainable params: 0\n",
       "================================================================="
      ]
     },
     "execution_count": 4,
     "metadata": {},
     "output_type": "execute_result"
    }
   ],
   "source": [
    "gru_model = models.GRU(\n",
    "    hidden_size=2048,\n",
    ")\n",
    "\n",
    "summary(gru_model)"
   ]
  },
  {
   "cell_type": "code",
   "execution_count": null,
   "metadata": {},
   "outputs": [],
   "source": [
    "_m, _h = run_train(\n",
    "    # fixed\n",
    "    model=gru_model,\n",
    "    sequence_len=8,\n",
    "    data_as_sequence=True,\n",
    "    output_path=check_dir(\"gru\"),\n",
    "    # adjust\n",
    "    epochs=50,\n",
    "    init_learning_rate=1e-4,\n",
    "    weight_decay=1e-5,\n",
    "    # enable for final training\n",
    "    data_use_all=True,\n",
    ")"
   ]
  },
  {
   "cell_type": "markdown",
   "metadata": {},
   "source": [
    "# TCN - Temporal Convolutional Network"
   ]
  },
  {
   "cell_type": "code",
   "execution_count": 2,
   "metadata": {},
   "outputs": [
    {
     "data": {
      "text/plain": [
       "================================================================================\n",
       "Layer (type:depth-idx)                                  Param #\n",
       "================================================================================\n",
       "TCN                                                     --\n",
       "├─TCN: 1-1                                              --\n",
       "│    └─ModuleList: 2-1                                  --\n",
       "│    │    └─TemporalBlock: 3-1                          411,904\n",
       "│    │    └─TemporalBlock: 3-2                          230,016\n",
       "│    │    └─TemporalBlock: 3-3                          57,664\n",
       "│    └─Conv1d: 2-2                                      65\n",
       "│    └─Sigmoid: 2-3                                     --\n",
       "================================================================================\n",
       "Total params: 699,649\n",
       "Trainable params: 699,649\n",
       "Non-trainable params: 0\n",
       "================================================================================"
      ]
     },
     "execution_count": 2,
     "metadata": {},
     "output_type": "execute_result"
    }
   ],
   "source": [
    "tcn_model = models.TCN(\n",
    "    channels=[256, 128, 64],\n",
    ")\n",
    "\n",
    "summary(tcn_model)"
   ]
  },
  {
   "cell_type": "code",
   "execution_count": null,
   "metadata": {},
   "outputs": [],
   "source": [
    "_m, _h = run_train(\n",
    "    # fixed\n",
    "    model=tcn_model,\n",
    "    sequence_len=8,\n",
    "    data_as_sequence=True,\n",
    "    output_path=check_dir(\"tcn\"),\n",
    "    # adjust\n",
    "    epochs=50,\n",
    "    init_learning_rate=(1e-4) / 2,\n",
    "    # enable for final training\n",
    "    data_use_all=True,\n",
    ")"
   ]
  },
  {
   "cell_type": "markdown",
   "metadata": {},
   "source": [
    "## TE - Tranformer Encoder"
   ]
  },
  {
   "cell_type": "code",
   "execution_count": 2,
   "metadata": {},
   "outputs": [
    {
     "data": {
      "text/plain": [
       "================================================================================\n",
       "Layer (type:depth-idx)                                  Param #\n",
       "================================================================================\n",
       "TE                                                      --\n",
       "├─TransformerEncoderLayer: 1-1                          --\n",
       "│    └─MultiheadAttention: 2-1                          2,586,336\n",
       "│    │    └─NonDynamicallyQuantizableLinear: 3-1        862,112\n",
       "│    └─Linear: 2-2                                      2,853,888\n",
       "│    └─Dropout: 2-3                                     --\n",
       "│    └─Linear: 2-4                                      2,851,744\n",
       "│    └─LayerNorm: 2-5                                   1,856\n",
       "│    └─LayerNorm: 2-6                                   1,856\n",
       "│    └─Dropout: 2-7                                     --\n",
       "│    └─Dropout: 2-8                                     --\n",
       "├─Linear: 1-2                                           929\n",
       "├─Sigmoid: 1-3                                          --\n",
       "================================================================================\n",
       "Total params: 9,158,721\n",
       "Trainable params: 9,158,721\n",
       "Non-trainable params: 0\n",
       "================================================================================"
      ]
     },
     "execution_count": 2,
     "metadata": {},
     "output_type": "execute_result"
    }
   ],
   "source": [
    "te_model = models.TE(\n",
    "    hidden_size=3072,\n",
    "    dropout=0.2,\n",
    ")\n",
    "\n",
    "summary(te_model)"
   ]
  },
  {
   "cell_type": "code",
   "execution_count": null,
   "metadata": {},
   "outputs": [],
   "source": [
    "_m, _h = run_train(\n",
    "    # fixed\n",
    "    model=te_model,\n",
    "    sequence_len=8,\n",
    "    data_as_sequence=False,\n",
    "    output_path=check_dir(\"te\"),\n",
    "    # adjust\n",
    "    epochs=50,\n",
    "    init_learning_rate=1e-5,\n",
    "    # enable for final training\n",
    "    data_use_all=True,\n",
    ")"
   ]
  },
  {
   "cell_type": "code",
   "execution_count": 4,
   "metadata": {},
   "outputs": [],
   "source": []
  }
 ],
 "metadata": {
  "kernelspec": {
   "display_name": "venv",
   "language": "python",
   "name": "python3"
  },
  "language_info": {
   "codemirror_mode": {
    "name": "ipython",
    "version": 3
   },
   "file_extension": ".py",
   "mimetype": "text/x-python",
   "name": "python",
   "nbconvert_exporter": "python",
   "pygments_lexer": "ipython3",
   "version": "3.11.7"
  }
 },
 "nbformat": 4,
 "nbformat_minor": 2
}
