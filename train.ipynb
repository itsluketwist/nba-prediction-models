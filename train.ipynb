{
 "cells": [
  {
   "cell_type": "markdown",
   "metadata": {},
   "source": [
    "# Train the models! 👟\n",
    "\n",
    "This notebook imports training methods and models from the `src/` directory in order to train the models."
   ]
  },
  {
   "cell_type": "code",
   "execution_count": 1,
   "metadata": {},
   "outputs": [
    {
     "name": "stdout",
     "output_type": "stream",
     "text": [
      "cuda\n"
     ]
    },
    {
     "data": {
      "text/plain": [
       "<torch._C.Generator at 0x21bc3505150>"
      ]
     },
     "execution_count": 1,
     "metadata": {},
     "output_type": "execute_result"
    }
   ],
   "source": [
    "# setup imports\n",
    "from src.utils import device, check_dir\n",
    "from src.train import run_train\n",
    "from src import models\n",
    "from torchinfo import summary\n",
    "import torch\n",
    "\n",
    "\n",
    "print(device)  # check the device\n",
    "\n",
    "torch.manual_seed(0)  # make training reproducable"
   ]
  },
  {
   "cell_type": "markdown",
   "metadata": {},
   "source": [
    "## RNN - Recurrent Neural Network"
   ]
  },
  {
   "cell_type": "code",
   "execution_count": 3,
   "metadata": {},
   "outputs": [
    {
     "data": {
      "text/plain": [
       "=================================================================\n",
       "Layer (type:depth-idx)                   Param #\n",
       "=================================================================\n",
       "RNN                                      --\n",
       "├─RNN: 1-1                               4,435,968\n",
       "├─Linear: 1-2                            2,049\n",
       "├─Sigmoid: 1-3                           --\n",
       "=================================================================\n",
       "Total params: 4,438,017\n",
       "Trainable params: 4,438,017\n",
       "Non-trainable params: 0\n",
       "================================================================="
      ]
     },
     "execution_count": 3,
     "metadata": {},
     "output_type": "execute_result"
    }
   ],
   "source": [
    "rnn_model = models.RNN(\n",
    "    hidden_size=2048,\n",
    ")\n",
    "\n",
    "summary(rnn_model)"
   ]
  },
  {
   "cell_type": "code",
   "execution_count": null,
   "metadata": {},
   "outputs": [],
   "source": [
    "_m, _h = run_train(\n",
    "    # fixed\n",
    "    model=rnn_model,\n",
    "    sequence_len=8,\n",
    "    data_as_sequence=True,\n",
    "    output_path=check_dir(\"rnn\"),\n",
    "    # adjust\n",
    "    epochs=30,\n",
    "    init_learning_rate=1e-3,\n",
    "    weight_decay=1e-5,\n",
    "    # data_use_all=True,\n",
    ")"
   ]
  },
  {
   "cell_type": "markdown",
   "metadata": {},
   "source": [
    "# LSTM - Long Short-Term Memory"
   ]
  },
  {
   "cell_type": "code",
   "execution_count": 2,
   "metadata": {},
   "outputs": [
    {
     "data": {
      "text/plain": [
       "=================================================================\n",
       "Layer (type:depth-idx)                   Param #\n",
       "=================================================================\n",
       "LSTM                                     --\n",
       "├─LSTM: 1-1                              4,677,632\n",
       "├─Linear: 1-2                            1,025\n",
       "├─Sigmoid: 1-3                           --\n",
       "=================================================================\n",
       "Total params: 4,678,657\n",
       "Trainable params: 4,678,657\n",
       "Non-trainable params: 0\n",
       "================================================================="
      ]
     },
     "execution_count": 2,
     "metadata": {},
     "output_type": "execute_result"
    }
   ],
   "source": [
    "lstm_model = models.LSTM(\n",
    "    hidden_size=1024,\n",
    ")\n",
    "\n",
    "summary(lstm_model)"
   ]
  },
  {
   "cell_type": "code",
   "execution_count": 3,
   "metadata": {},
   "outputs": [
    {
     "name": "stderr",
     "output_type": "stream",
     "text": [
      "[2024-08-11 17:03:21] INFO     : src.train - Loading data...\n",
      "[2024-08-11 17:03:26] INFO     : src.train - Beginning to train the network...\n",
      "[2024-08-11 17:03:29] INFO     : src.train - EPOCH: 1/30\n",
      "[2024-08-11 17:03:29] INFO     : src.train - Train loss: 0.6831, Train accuracy: 0.5747\n",
      "[2024-08-11 17:03:29] INFO     : src.train - Val loss: 0.6745, Val accuracy: 0.5801\n",
      "\n",
      "[2024-08-11 17:03:33] INFO     : src.train - EPOCH: 2/30\n",
      "[2024-08-11 17:03:33] INFO     : src.train - Train loss: 0.6768, Train accuracy: 0.5771\n",
      "[2024-08-11 17:03:33] INFO     : src.train - Val loss: 0.6672, Val accuracy: 0.6003\n",
      "\n",
      "[2024-08-11 17:03:36] INFO     : src.train - EPOCH: 3/30\n",
      "[2024-08-11 17:03:36] INFO     : src.train - Train loss: 0.6723, Train accuracy: 0.5866\n",
      "[2024-08-11 17:03:36] INFO     : src.train - Val loss: 0.6661, Val accuracy: 0.5952\n",
      "\n",
      "[2024-08-11 17:03:39] INFO     : src.train - EPOCH: 4/30\n",
      "[2024-08-11 17:03:39] INFO     : src.train - Train loss: 0.6770, Train accuracy: 0.5783\n",
      "[2024-08-11 17:03:39] INFO     : src.train - Val loss: 0.6672, Val accuracy: 0.5952\n",
      "\n",
      "[2024-08-11 17:03:42] INFO     : src.train - EPOCH: 5/30\n",
      "[2024-08-11 17:03:42] INFO     : src.train - Train loss: 0.6686, Train accuracy: 0.5918\n",
      "[2024-08-11 17:03:42] INFO     : src.train - Val loss: 0.6783, Val accuracy: 0.5662\n",
      "\n",
      "[2024-08-11 17:03:45] INFO     : src.train - EPOCH: 6/30\n",
      "[2024-08-11 17:03:45] INFO     : src.train - Train loss: 0.6737, Train accuracy: 0.5806\n",
      "[2024-08-11 17:03:45] INFO     : src.train - Val loss: 0.6640, Val accuracy: 0.5986\n",
      "\n",
      "[2024-08-11 17:03:48] INFO     : src.train - EPOCH: 7/30\n",
      "[2024-08-11 17:03:48] INFO     : src.train - Train loss: 0.6722, Train accuracy: 0.5812\n",
      "[2024-08-11 17:03:48] INFO     : src.train - Val loss: 0.6650, Val accuracy: 0.5943\n",
      "\n",
      "[2024-08-11 17:03:51] INFO     : src.train - EPOCH: 8/30\n",
      "[2024-08-11 17:03:51] INFO     : src.train - Train loss: 0.6743, Train accuracy: 0.5792\n",
      "[2024-08-11 17:03:51] INFO     : src.train - Val loss: 0.6567, Val accuracy: 0.6042\n",
      "\n",
      "[2024-08-11 17:03:54] INFO     : src.train - EPOCH: 9/30\n",
      "[2024-08-11 17:03:54] INFO     : src.train - Train loss: 0.6734, Train accuracy: 0.5792\n",
      "[2024-08-11 17:03:54] INFO     : src.train - Val loss: 0.6676, Val accuracy: 0.5965\n",
      "\n",
      "[2024-08-11 17:03:58] INFO     : src.train - EPOCH: 10/30\n",
      "[2024-08-11 17:03:58] INFO     : src.train - Train loss: 0.6750, Train accuracy: 0.5806\n",
      "[2024-08-11 17:03:58] INFO     : src.train - Val loss: 0.6703, Val accuracy: 0.5982\n",
      "\n",
      "[2024-08-11 17:04:01] INFO     : src.train - EPOCH: 11/30\n",
      "[2024-08-11 17:04:01] INFO     : src.train - Train loss: 0.6725, Train accuracy: 0.5842\n",
      "[2024-08-11 17:04:01] INFO     : src.train - Val loss: 0.6606, Val accuracy: 0.6029\n",
      "\n",
      "[2024-08-11 17:04:04] INFO     : src.train - EPOCH: 12/30\n",
      "[2024-08-11 17:04:04] INFO     : src.train - Train loss: 0.6693, Train accuracy: 0.5909\n",
      "[2024-08-11 17:04:04] INFO     : src.train - Val loss: 0.6661, Val accuracy: 0.5999\n",
      "\n",
      "[2024-08-11 17:04:07] INFO     : src.train - EPOCH: 13/30\n",
      "[2024-08-11 17:04:07] INFO     : src.train - Train loss: 0.6664, Train accuracy: 0.5953\n",
      "[2024-08-11 17:04:07] INFO     : src.train - Val loss: 0.6627, Val accuracy: 0.6060\n",
      "\n",
      "[2024-08-11 17:04:10] INFO     : src.train - EPOCH: 14/30\n",
      "[2024-08-11 17:04:10] INFO     : src.train - Train loss: 0.6657, Train accuracy: 0.6010\n",
      "[2024-08-11 17:04:10] INFO     : src.train - Val loss: 0.6597, Val accuracy: 0.6198\n",
      "\n",
      "[2024-08-11 17:04:13] INFO     : src.train - EPOCH: 15/30\n",
      "[2024-08-11 17:04:13] INFO     : src.train - Train loss: 0.6642, Train accuracy: 0.6018\n",
      "[2024-08-11 17:04:13] INFO     : src.train - Val loss: 0.6687, Val accuracy: 0.5969\n",
      "\n",
      "[2024-08-11 17:04:16] INFO     : src.train - EPOCH: 16/30\n",
      "[2024-08-11 17:04:16] INFO     : src.train - Train loss: 0.6645, Train accuracy: 0.6028\n",
      "[2024-08-11 17:04:16] INFO     : src.train - Val loss: 0.6513, Val accuracy: 0.6167\n",
      "\n",
      "[2024-08-11 17:04:19] INFO     : src.train - EPOCH: 17/30\n",
      "[2024-08-11 17:04:19] INFO     : src.train - Train loss: 0.6636, Train accuracy: 0.6092\n",
      "[2024-08-11 17:04:19] INFO     : src.train - Val loss: 0.6556, Val accuracy: 0.5999\n",
      "\n",
      "[2024-08-11 17:04:22] INFO     : src.train - EPOCH: 18/30\n",
      "[2024-08-11 17:04:22] INFO     : src.train - Train loss: 0.6620, Train accuracy: 0.6034\n",
      "[2024-08-11 17:04:22] INFO     : src.train - Val loss: 0.6520, Val accuracy: 0.6124\n",
      "\n",
      "[2024-08-11 17:04:26] INFO     : src.train - EPOCH: 19/30\n",
      "[2024-08-11 17:04:26] INFO     : src.train - Train loss: 0.6682, Train accuracy: 0.5967\n",
      "[2024-08-11 17:04:26] INFO     : src.train - Val loss: 0.6515, Val accuracy: 0.6284\n",
      "\n",
      "[2024-08-11 17:04:29] INFO     : src.train - EPOCH: 20/30\n",
      "[2024-08-11 17:04:29] INFO     : src.train - Train loss: 0.6619, Train accuracy: 0.6100\n",
      "[2024-08-11 17:04:29] INFO     : src.train - Val loss: 0.6494, Val accuracy: 0.6293\n",
      "\n",
      "[2024-08-11 17:04:32] INFO     : src.train - EPOCH: 21/30\n",
      "[2024-08-11 17:04:32] INFO     : src.train - Train loss: 0.6647, Train accuracy: 0.6030\n",
      "[2024-08-11 17:04:32] INFO     : src.train - Val loss: 0.6632, Val accuracy: 0.6146\n",
      "\n",
      "[2024-08-11 17:04:35] INFO     : src.train - EPOCH: 22/30\n",
      "[2024-08-11 17:04:35] INFO     : src.train - Train loss: 0.6617, Train accuracy: 0.6068\n",
      "[2024-08-11 17:04:35] INFO     : src.train - Val loss: 0.6564, Val accuracy: 0.5991\n",
      "\n",
      "[2024-08-11 17:04:38] INFO     : src.train - EPOCH: 23/30\n",
      "[2024-08-11 17:04:38] INFO     : src.train - Train loss: 0.6588, Train accuracy: 0.6150\n",
      "[2024-08-11 17:04:38] INFO     : src.train - Val loss: 0.6505, Val accuracy: 0.6280\n",
      "\n",
      "[2024-08-11 17:04:41] INFO     : src.train - EPOCH: 24/30\n",
      "[2024-08-11 17:04:41] INFO     : src.train - Train loss: 0.6588, Train accuracy: 0.6139\n",
      "[2024-08-11 17:04:41] INFO     : src.train - Val loss: 0.6527, Val accuracy: 0.6306\n",
      "\n",
      "[2024-08-11 17:04:44] INFO     : src.train - EPOCH: 25/30\n",
      "[2024-08-11 17:04:44] INFO     : src.train - Train loss: 0.6604, Train accuracy: 0.6102\n",
      "[2024-08-11 17:04:44] INFO     : src.train - Val loss: 0.6530, Val accuracy: 0.6280\n",
      "\n",
      "[2024-08-11 17:04:47] INFO     : src.train - EPOCH: 26/30\n",
      "[2024-08-11 17:04:47] INFO     : src.train - Train loss: 0.6616, Train accuracy: 0.6102\n",
      "[2024-08-11 17:04:47] INFO     : src.train - Val loss: 0.6545, Val accuracy: 0.6219\n",
      "\n",
      "[2024-08-11 17:04:50] INFO     : src.train - EPOCH: 27/30\n",
      "[2024-08-11 17:04:50] INFO     : src.train - Train loss: 0.6573, Train accuracy: 0.6163\n",
      "[2024-08-11 17:04:50] INFO     : src.train - Val loss: 0.6830, Val accuracy: 0.5848\n",
      "\n",
      "[2024-08-11 17:04:53] INFO     : src.train - EPOCH: 28/30\n",
      "[2024-08-11 17:04:53] INFO     : src.train - Train loss: 0.6595, Train accuracy: 0.6157\n",
      "[2024-08-11 17:04:53] INFO     : src.train - Val loss: 0.6599, Val accuracy: 0.6206\n",
      "\n",
      "[2024-08-11 17:04:57] INFO     : src.train - EPOCH: 29/30\n",
      "[2024-08-11 17:04:57] INFO     : src.train - Train loss: 0.6574, Train accuracy: 0.6108\n",
      "[2024-08-11 17:04:57] INFO     : src.train - Val loss: 0.6467, Val accuracy: 0.6331\n",
      "\n",
      "[2024-08-11 17:05:00] INFO     : src.train - EPOCH: 30/30\n",
      "[2024-08-11 17:05:00] INFO     : src.train - Train loss: 0.6578, Train accuracy: 0.6078\n",
      "[2024-08-11 17:05:00] INFO     : src.train - Val loss: 0.6621, Val accuracy: 0.5956\n",
      "\n",
      "[2024-08-11 17:05:00] INFO     : src.train - Evaluating network...\n",
      "[2024-08-11 17:05:00] INFO     : src.train - Accuracy from season remainder: 0.5706\n"
     ]
    },
    {
     "name": "stdout",
     "output_type": "stream",
     "text": [
      "              precision    recall  f1-score   support\n",
      "\n",
      "    AWAY_WIN       0.68      0.17      0.27       163\n",
      "    HOME_WIN       0.56      0.93      0.70       184\n",
      "\n",
      "    accuracy                           0.57       347\n",
      "   macro avg       0.62      0.55      0.48       347\n",
      "weighted avg       0.61      0.57      0.49       347\n",
      "\n"
     ]
    },
    {
     "name": "stderr",
     "output_type": "stream",
     "text": [
      "[2024-08-11 17:05:01] INFO     : src.train - Accuracy from next season: 0.5747\n"
     ]
    },
    {
     "name": "stdout",
     "output_type": "stream",
     "text": [
      "              precision    recall  f1-score   support\n",
      "\n",
      "    AWAY_WIN       0.49      0.10      0.16       445\n",
      "    HOME_WIN       0.58      0.92      0.71       606\n",
      "\n",
      "    accuracy                           0.57      1051\n",
      "   macro avg       0.54      0.51      0.44      1051\n",
      "weighted avg       0.54      0.57      0.48      1051\n",
      "\n"
     ]
    },
    {
     "name": "stderr",
     "output_type": "stream",
     "text": [
      "[2024-08-11 17:05:02] INFO     : src.train - Accuracy on short streaks (training): 0.5247\n",
      "[2024-08-11 17:05:02] INFO     : src.train - Accuracy on long streaks (training): 0.5233\n",
      "[2024-08-11 17:05:02] INFO     : src.train - Accuracy on short streaks (evaluation): 0.4728\n",
      "[2024-08-11 17:05:02] INFO     : src.train - Accuracy on long streaks (evaluation): 0.4394\n"
     ]
    }
   ],
   "source": [
    "_m, _h = run_train(\n",
    "    # fixed\n",
    "    model=lstm_model,\n",
    "    sequence_len=8,\n",
    "    data_as_sequence=True,\n",
    "    output_path=check_dir(\"lstm\"),\n",
    "    # adjust\n",
    "    epochs=30,\n",
    "    init_learning_rate=1e-3,\n",
    "    weight_decay=1e-5,\n",
    "    # data_use_all=True,\n",
    ")"
   ]
  },
  {
   "cell_type": "markdown",
   "metadata": {},
   "source": [
    "# GRU - Gated Recurrent Unit"
   ]
  },
  {
   "cell_type": "code",
   "execution_count": 3,
   "metadata": {},
   "outputs": [
    {
     "data": {
      "text/plain": [
       "=================================================================\n",
       "Layer (type:depth-idx)                   Param #\n",
       "=================================================================\n",
       "GRU                                      --\n",
       "├─GRU: 1-1                               3,508,224\n",
       "├─Linear: 1-2                            1,025\n",
       "├─Sigmoid: 1-3                           --\n",
       "=================================================================\n",
       "Total params: 3,509,249\n",
       "Trainable params: 3,509,249\n",
       "Non-trainable params: 0\n",
       "================================================================="
      ]
     },
     "execution_count": 3,
     "metadata": {},
     "output_type": "execute_result"
    }
   ],
   "source": [
    "gru_model = models.GRU(\n",
    "    hidden_size=1024,\n",
    ")\n",
    "\n",
    "summary(gru_model)"
   ]
  },
  {
   "cell_type": "code",
   "execution_count": 4,
   "metadata": {},
   "outputs": [
    {
     "name": "stderr",
     "output_type": "stream",
     "text": [
      "[2024-08-11 16:41:32] INFO     : src.train - Loading data...\n",
      "[2024-08-11 16:41:36] INFO     : src.train - Beginning to train the network...\n",
      "[2024-08-11 16:41:41] INFO     : src.train - EPOCH: 1/30\n",
      "[2024-08-11 16:41:41] INFO     : src.train - Train loss: 0.6771, Train accuracy: 0.5806\n",
      "[2024-08-11 16:41:41] INFO     : src.train - Val loss: 0.6321, Val accuracy: 0.6383\n",
      "\n",
      "[2024-08-11 16:41:45] INFO     : src.train - EPOCH: 2/30\n",
      "[2024-08-11 16:41:45] INFO     : src.train - Train loss: 0.6487, Train accuracy: 0.6237\n",
      "[2024-08-11 16:41:45] INFO     : src.train - Val loss: 0.6272, Val accuracy: 0.6457\n",
      "\n",
      "[2024-08-11 16:41:49] INFO     : src.train - EPOCH: 3/30\n",
      "[2024-08-11 16:41:49] INFO     : src.train - Train loss: 0.6396, Train accuracy: 0.6332\n",
      "[2024-08-11 16:41:49] INFO     : src.train - Val loss: 0.6168, Val accuracy: 0.6539\n",
      "\n",
      "[2024-08-11 16:41:52] INFO     : src.train - EPOCH: 4/30\n",
      "[2024-08-11 16:41:52] INFO     : src.train - Train loss: 0.6376, Train accuracy: 0.6372\n",
      "[2024-08-11 16:41:52] INFO     : src.train - Val loss: 0.6408, Val accuracy: 0.6439\n",
      "\n",
      "[2024-08-11 16:41:56] INFO     : src.train - EPOCH: 5/30\n",
      "[2024-08-11 16:41:56] INFO     : src.train - Train loss: 0.6388, Train accuracy: 0.6337\n",
      "[2024-08-11 16:41:56] INFO     : src.train - Val loss: 0.6178, Val accuracy: 0.6573\n",
      "\n",
      "[2024-08-11 16:42:00] INFO     : src.train - EPOCH: 6/30\n",
      "[2024-08-11 16:42:00] INFO     : src.train - Train loss: 0.6359, Train accuracy: 0.6382\n",
      "[2024-08-11 16:42:00] INFO     : src.train - Val loss: 0.6160, Val accuracy: 0.6595\n",
      "\n",
      "[2024-08-11 16:42:04] INFO     : src.train - EPOCH: 7/30\n",
      "[2024-08-11 16:42:04] INFO     : src.train - Train loss: 0.6358, Train accuracy: 0.6383\n",
      "[2024-08-11 16:42:04] INFO     : src.train - Val loss: 0.6153, Val accuracy: 0.6556\n",
      "\n",
      "[2024-08-11 16:42:08] INFO     : src.train - EPOCH: 8/30\n",
      "[2024-08-11 16:42:08] INFO     : src.train - Train loss: 0.6349, Train accuracy: 0.6369\n",
      "[2024-08-11 16:42:08] INFO     : src.train - Val loss: 0.6332, Val accuracy: 0.6500\n",
      "\n",
      "[2024-08-11 16:42:11] INFO     : src.train - EPOCH: 9/30\n",
      "[2024-08-11 16:42:11] INFO     : src.train - Train loss: 0.6334, Train accuracy: 0.6416\n",
      "[2024-08-11 16:42:11] INFO     : src.train - Val loss: 0.6210, Val accuracy: 0.6508\n",
      "\n",
      "[2024-08-11 16:42:15] INFO     : src.train - EPOCH: 10/30\n",
      "[2024-08-11 16:42:15] INFO     : src.train - Train loss: 0.6332, Train accuracy: 0.6402\n",
      "[2024-08-11 16:42:15] INFO     : src.train - Val loss: 0.6140, Val accuracy: 0.6573\n",
      "\n",
      "[2024-08-11 16:42:19] INFO     : src.train - EPOCH: 11/30\n",
      "[2024-08-11 16:42:19] INFO     : src.train - Train loss: 0.6346, Train accuracy: 0.6370\n",
      "[2024-08-11 16:42:19] INFO     : src.train - Val loss: 0.6294, Val accuracy: 0.6401\n",
      "\n",
      "[2024-08-11 16:42:23] INFO     : src.train - EPOCH: 12/30\n",
      "[2024-08-11 16:42:23] INFO     : src.train - Train loss: 0.6335, Train accuracy: 0.6382\n",
      "[2024-08-11 16:42:23] INFO     : src.train - Val loss: 0.6186, Val accuracy: 0.6590\n",
      "\n",
      "[2024-08-11 16:42:27] INFO     : src.train - EPOCH: 13/30\n",
      "[2024-08-11 16:42:27] INFO     : src.train - Train loss: 0.6310, Train accuracy: 0.6440\n",
      "[2024-08-11 16:42:27] INFO     : src.train - Val loss: 0.6201, Val accuracy: 0.6517\n",
      "\n",
      "[2024-08-11 16:42:31] INFO     : src.train - EPOCH: 14/30\n",
      "[2024-08-11 16:42:31] INFO     : src.train - Train loss: 0.6314, Train accuracy: 0.6422\n",
      "[2024-08-11 16:42:31] INFO     : src.train - Val loss: 0.6249, Val accuracy: 0.6491\n",
      "\n",
      "[2024-08-11 16:42:35] INFO     : src.train - EPOCH: 15/30\n",
      "[2024-08-11 16:42:35] INFO     : src.train - Train loss: 0.6311, Train accuracy: 0.6418\n",
      "[2024-08-11 16:42:35] INFO     : src.train - Val loss: 0.6190, Val accuracy: 0.6573\n",
      "\n",
      "[2024-08-11 16:42:39] INFO     : src.train - EPOCH: 16/30\n",
      "[2024-08-11 16:42:39] INFO     : src.train - Train loss: 0.6326, Train accuracy: 0.6425\n",
      "[2024-08-11 16:42:39] INFO     : src.train - Val loss: 0.6144, Val accuracy: 0.6586\n",
      "\n",
      "[2024-08-11 16:42:43] INFO     : src.train - EPOCH: 17/30\n",
      "[2024-08-11 16:42:43] INFO     : src.train - Train loss: 0.6321, Train accuracy: 0.6382\n",
      "[2024-08-11 16:42:43] INFO     : src.train - Val loss: 0.6150, Val accuracy: 0.6539\n",
      "\n",
      "[2024-08-11 16:42:47] INFO     : src.train - EPOCH: 18/30\n",
      "[2024-08-11 16:42:47] INFO     : src.train - Train loss: 0.6332, Train accuracy: 0.6378\n",
      "[2024-08-11 16:42:47] INFO     : src.train - Val loss: 0.6154, Val accuracy: 0.6560\n",
      "\n",
      "[2024-08-11 16:42:51] INFO     : src.train - EPOCH: 19/30\n",
      "[2024-08-11 16:42:51] INFO     : src.train - Train loss: 0.6280, Train accuracy: 0.6462\n",
      "[2024-08-11 16:42:51] INFO     : src.train - Val loss: 0.6144, Val accuracy: 0.6612\n",
      "\n",
      "[2024-08-11 16:42:54] INFO     : src.train - EPOCH: 20/30\n",
      "[2024-08-11 16:42:54] INFO     : src.train - Train loss: 0.6287, Train accuracy: 0.6442\n",
      "[2024-08-11 16:42:54] INFO     : src.train - Val loss: 0.6150, Val accuracy: 0.6595\n",
      "\n",
      "[2024-08-11 16:42:58] INFO     : src.train - EPOCH: 21/30\n",
      "[2024-08-11 16:42:58] INFO     : src.train - Train loss: 0.6294, Train accuracy: 0.6444\n",
      "[2024-08-11 16:42:58] INFO     : src.train - Val loss: 0.6205, Val accuracy: 0.6552\n",
      "\n",
      "[2024-08-11 16:43:02] INFO     : src.train - EPOCH: 22/30\n",
      "[2024-08-11 16:43:02] INFO     : src.train - Train loss: 0.6292, Train accuracy: 0.6413\n",
      "[2024-08-11 16:43:02] INFO     : src.train - Val loss: 0.6171, Val accuracy: 0.6608\n",
      "\n",
      "[2024-08-11 16:43:06] INFO     : src.train - EPOCH: 23/30\n",
      "[2024-08-11 16:43:06] INFO     : src.train - Train loss: 0.6291, Train accuracy: 0.6446\n",
      "[2024-08-11 16:43:06] INFO     : src.train - Val loss: 0.6189, Val accuracy: 0.6526\n",
      "\n",
      "[2024-08-11 16:43:09] INFO     : src.train - EPOCH: 24/30\n",
      "[2024-08-11 16:43:09] INFO     : src.train - Train loss: 0.6288, Train accuracy: 0.6471\n",
      "[2024-08-11 16:43:09] INFO     : src.train - Val loss: 0.6223, Val accuracy: 0.6534\n",
      "\n",
      "[2024-08-11 16:43:13] INFO     : src.train - EPOCH: 25/30\n",
      "[2024-08-11 16:43:13] INFO     : src.train - Train loss: 0.6290, Train accuracy: 0.6432\n",
      "[2024-08-11 16:43:13] INFO     : src.train - Val loss: 0.6384, Val accuracy: 0.6375\n",
      "\n",
      "[2024-08-11 16:43:17] INFO     : src.train - EPOCH: 26/30\n",
      "[2024-08-11 16:43:17] INFO     : src.train - Train loss: 0.6257, Train accuracy: 0.6478\n",
      "[2024-08-11 16:43:17] INFO     : src.train - Val loss: 0.6188, Val accuracy: 0.6521\n",
      "\n",
      "[2024-08-11 16:43:21] INFO     : src.train - EPOCH: 27/30\n",
      "[2024-08-11 16:43:21] INFO     : src.train - Train loss: 0.6251, Train accuracy: 0.6521\n",
      "[2024-08-11 16:43:21] INFO     : src.train - Val loss: 0.6153, Val accuracy: 0.6616\n",
      "\n",
      "[2024-08-11 16:43:24] INFO     : src.train - EPOCH: 28/30\n",
      "[2024-08-11 16:43:24] INFO     : src.train - Train loss: 0.6219, Train accuracy: 0.6514\n",
      "[2024-08-11 16:43:24] INFO     : src.train - Val loss: 0.6347, Val accuracy: 0.6401\n",
      "\n",
      "[2024-08-11 16:43:28] INFO     : src.train - EPOCH: 29/30\n",
      "[2024-08-11 16:43:28] INFO     : src.train - Train loss: 0.6225, Train accuracy: 0.6526\n",
      "[2024-08-11 16:43:28] INFO     : src.train - Val loss: 0.6242, Val accuracy: 0.6547\n",
      "\n",
      "[2024-08-11 16:43:32] INFO     : src.train - EPOCH: 30/30\n",
      "[2024-08-11 16:43:32] INFO     : src.train - Train loss: 0.6226, Train accuracy: 0.6545\n",
      "[2024-08-11 16:43:32] INFO     : src.train - Val loss: 0.6178, Val accuracy: 0.6560\n",
      "\n",
      "[2024-08-11 16:43:32] INFO     : src.train - Evaluating network...\n",
      "[2024-08-11 16:43:32] INFO     : src.train - Accuracy from season remainder: 0.6484\n"
     ]
    },
    {
     "name": "stdout",
     "output_type": "stream",
     "text": [
      "              precision    recall  f1-score   support\n",
      "\n",
      "    AWAY_WIN       0.71      0.43      0.53       163\n",
      "    HOME_WIN       0.62      0.84      0.72       184\n",
      "\n",
      "    accuracy                           0.65       347\n",
      "   macro avg       0.67      0.64      0.63       347\n",
      "weighted avg       0.66      0.65      0.63       347\n",
      "\n"
     ]
    },
    {
     "name": "stderr",
     "output_type": "stream",
     "text": [
      "[2024-08-11 16:43:33] INFO     : src.train - Accuracy from next season: 0.6051\n"
     ]
    },
    {
     "name": "stdout",
     "output_type": "stream",
     "text": [
      "              precision    recall  f1-score   support\n",
      "\n",
      "    AWAY_WIN       0.55      0.37      0.44       445\n",
      "    HOME_WIN       0.63      0.78      0.70       606\n",
      "\n",
      "    accuracy                           0.61      1051\n",
      "   macro avg       0.59      0.57      0.57      1051\n",
      "weighted avg       0.59      0.61      0.59      1051\n",
      "\n"
     ]
    },
    {
     "name": "stderr",
     "output_type": "stream",
     "text": [
      "[2024-08-11 16:43:34] INFO     : src.train - Accuracy on short streaks (training): 0.4959\n",
      "[2024-08-11 16:43:34] INFO     : src.train - Accuracy on long streaks (training): 0.3098\n",
      "[2024-08-11 16:43:34] INFO     : src.train - Accuracy on short streaks (evaluation): 0.4686\n",
      "[2024-08-11 16:43:35] INFO     : src.train - Accuracy on long streaks (evaluation): 0.1667\n"
     ]
    }
   ],
   "source": [
    "_m, _h = run_train(\n",
    "    # fixed\n",
    "    model=rnn_model,\n",
    "    sequence_len=8,\n",
    "    data_as_sequence=True,\n",
    "    output_path=check_dir(\"gru\"),\n",
    "    # adjust\n",
    "    epochs=30,\n",
    "    init_learning_rate=1e-3,\n",
    "    weight_decay=1e-5,\n",
    "    # data_use_all=True,\n",
    ")"
   ]
  },
  {
   "cell_type": "markdown",
   "metadata": {},
   "source": [
    "# TCN - Temporal Convolutional Network"
   ]
  },
  {
   "cell_type": "code",
   "execution_count": null,
   "metadata": {},
   "outputs": [],
   "source": [
    "tcn_model = models.TCN(\n",
    "    channels=[32, 16, 4],\n",
    ")\n",
    "\n",
    "summary(tcn_model)"
   ]
  },
  {
   "cell_type": "code",
   "execution_count": null,
   "metadata": {},
   "outputs": [],
   "source": [
    "_m, _h = run_train(\n",
    "    # fixed\n",
    "    model=rnn_model,\n",
    "    sequence_len=8,\n",
    "    data_as_sequence=True,\n",
    "    output_path=check_dir(\"tcn\"),\n",
    "    # adjust\n",
    "    epochs=30,\n",
    "    init_learning_rate=1e-3,\n",
    "    weight_decay=1e-5,\n",
    "    # data_use_all=True,\n",
    ")"
   ]
  },
  {
   "cell_type": "markdown",
   "metadata": {},
   "source": [
    "## TE - Tranformer Encoder"
   ]
  },
  {
   "cell_type": "code",
   "execution_count": 4,
   "metadata": {},
   "outputs": [
    {
     "data": {
      "text/plain": [
       "================================================================================\n",
       "Layer (type:depth-idx)                                  Param #\n",
       "================================================================================\n",
       "TE                                                      --\n",
       "├─TransformerEncoderLayer: 1-1                          --\n",
       "│    └─MultiheadAttention: 2-1                          2,586,336\n",
       "│    │    └─NonDynamicallyQuantizableLinear: 3-1        862,112\n",
       "│    └─Linear: 2-2                                      1,902,592\n",
       "│    └─Dropout: 2-3                                     --\n",
       "│    └─Linear: 2-4                                      1,901,472\n",
       "│    └─LayerNorm: 2-5                                   1,856\n",
       "│    └─LayerNorm: 2-6                                   1,856\n",
       "│    └─Dropout: 2-7                                     --\n",
       "│    └─Dropout: 2-8                                     --\n",
       "├─Linear: 1-2                                           929\n",
       "├─Sigmoid: 1-3                                          --\n",
       "================================================================================\n",
       "Total params: 7,257,153\n",
       "Trainable params: 7,257,153\n",
       "Non-trainable params: 0\n",
       "================================================================================"
      ]
     },
     "execution_count": 4,
     "metadata": {},
     "output_type": "execute_result"
    }
   ],
   "source": [
    "te_model = models.TE(\n",
    "    hidden_size=2048,\n",
    ")\n",
    "\n",
    "summary(te_model)"
   ]
  },
  {
   "cell_type": "code",
   "execution_count": 5,
   "metadata": {},
   "outputs": [
    {
     "name": "stderr",
     "output_type": "stream",
     "text": [
      "[2024-08-11 17:21:42] INFO     : src.train - Loading data...\n",
      "[2024-08-11 17:21:46] INFO     : src.train - Beginning to train the network...\n",
      "[2024-08-11 17:21:48] INFO     : src.train - EPOCH: 1/30\n",
      "[2024-08-11 17:21:48] INFO     : src.train - Train loss: 0.7967, Train accuracy: 0.5419\n",
      "[2024-08-11 17:21:48] INFO     : src.train - Val loss: 0.6776, Val accuracy: 0.5939\n",
      "\n",
      "[2024-08-11 17:21:51] INFO     : src.train - EPOCH: 2/30\n",
      "[2024-08-11 17:21:51] INFO     : src.train - Train loss: 0.6900, Train accuracy: 0.5581\n",
      "[2024-08-11 17:21:51] INFO     : src.train - Val loss: 0.6799, Val accuracy: 0.5939\n",
      "\n",
      "[2024-08-11 17:21:53] INFO     : src.train - EPOCH: 3/30\n",
      "[2024-08-11 17:21:53] INFO     : src.train - Train loss: 0.6882, Train accuracy: 0.5594\n",
      "[2024-08-11 17:21:53] INFO     : src.train - Val loss: 0.6756, Val accuracy: 0.5939\n",
      "\n",
      "[2024-08-11 17:21:56] INFO     : src.train - EPOCH: 4/30\n",
      "[2024-08-11 17:21:56] INFO     : src.train - Train loss: 0.6860, Train accuracy: 0.5636\n",
      "[2024-08-11 17:21:56] INFO     : src.train - Val loss: 0.6801, Val accuracy: 0.5939\n",
      "\n",
      "[2024-08-11 17:21:58] INFO     : src.train - EPOCH: 5/30\n",
      "[2024-08-11 17:21:58] INFO     : src.train - Train loss: 0.6884, Train accuracy: 0.5625\n",
      "[2024-08-11 17:21:58] INFO     : src.train - Val loss: 0.6794, Val accuracy: 0.5939\n",
      "\n",
      "[2024-08-11 17:22:00] INFO     : src.train - EPOCH: 6/30\n",
      "[2024-08-11 17:22:00] INFO     : src.train - Train loss: 0.6864, Train accuracy: 0.5685\n",
      "[2024-08-11 17:22:00] INFO     : src.train - Val loss: 0.6897, Val accuracy: 0.5939\n",
      "\n",
      "[2024-08-11 17:22:03] INFO     : src.train - EPOCH: 7/30\n",
      "[2024-08-11 17:22:03] INFO     : src.train - Train loss: 0.6878, Train accuracy: 0.5581\n",
      "[2024-08-11 17:22:03] INFO     : src.train - Val loss: 0.6760, Val accuracy: 0.5939\n",
      "\n",
      "[2024-08-11 17:22:05] INFO     : src.train - EPOCH: 8/30\n",
      "[2024-08-11 17:22:05] INFO     : src.train - Train loss: 0.6866, Train accuracy: 0.5716\n",
      "[2024-08-11 17:22:05] INFO     : src.train - Val loss: 0.6746, Val accuracy: 0.5939\n",
      "\n",
      "[2024-08-11 17:22:08] INFO     : src.train - EPOCH: 9/30\n",
      "[2024-08-11 17:22:08] INFO     : src.train - Train loss: 0.6868, Train accuracy: 0.5694\n",
      "[2024-08-11 17:22:08] INFO     : src.train - Val loss: 0.6770, Val accuracy: 0.5939\n",
      "\n",
      "[2024-08-11 17:22:10] INFO     : src.train - EPOCH: 10/30\n",
      "[2024-08-11 17:22:10] INFO     : src.train - Train loss: 0.6885, Train accuracy: 0.5642\n",
      "[2024-08-11 17:22:10] INFO     : src.train - Val loss: 0.6793, Val accuracy: 0.5939\n",
      "\n",
      "[2024-08-11 17:22:13] INFO     : src.train - EPOCH: 11/30\n",
      "[2024-08-11 17:22:13] INFO     : src.train - Train loss: 0.6873, Train accuracy: 0.5642\n",
      "[2024-08-11 17:22:13] INFO     : src.train - Val loss: 0.6893, Val accuracy: 0.5939\n",
      "\n",
      "[2024-08-11 17:22:15] INFO     : src.train - EPOCH: 12/30\n",
      "[2024-08-11 17:22:15] INFO     : src.train - Train loss: 0.6852, Train accuracy: 0.5705\n",
      "[2024-08-11 17:22:15] INFO     : src.train - Val loss: 0.6785, Val accuracy: 0.5939\n",
      "\n",
      "[2024-08-11 17:22:17] INFO     : src.train - EPOCH: 13/30\n",
      "[2024-08-11 17:22:17] INFO     : src.train - Train loss: 0.6863, Train accuracy: 0.5697\n",
      "[2024-08-11 17:22:17] INFO     : src.train - Val loss: 0.6836, Val accuracy: 0.5939\n",
      "\n",
      "[2024-08-11 17:22:20] INFO     : src.train - EPOCH: 14/30\n",
      "[2024-08-11 17:22:20] INFO     : src.train - Train loss: 0.6848, Train accuracy: 0.5718\n",
      "[2024-08-11 17:22:20] INFO     : src.train - Val loss: 0.6782, Val accuracy: 0.5939\n",
      "\n",
      "[2024-08-11 17:22:22] INFO     : src.train - EPOCH: 15/30\n",
      "[2024-08-11 17:22:22] INFO     : src.train - Train loss: 0.6866, Train accuracy: 0.5705\n",
      "[2024-08-11 17:22:22] INFO     : src.train - Val loss: 0.6749, Val accuracy: 0.5939\n",
      "\n",
      "[2024-08-11 17:22:25] INFO     : src.train - EPOCH: 16/30\n",
      "[2024-08-11 17:22:25] INFO     : src.train - Train loss: 0.6845, Train accuracy: 0.5742\n",
      "[2024-08-11 17:22:25] INFO     : src.train - Val loss: 0.6775, Val accuracy: 0.5939\n",
      "\n",
      "[2024-08-11 17:22:27] INFO     : src.train - EPOCH: 17/30\n",
      "[2024-08-11 17:22:27] INFO     : src.train - Train loss: 0.6837, Train accuracy: 0.5735\n",
      "[2024-08-11 17:22:27] INFO     : src.train - Val loss: 0.6795, Val accuracy: 0.5939\n",
      "\n",
      "[2024-08-11 17:22:30] INFO     : src.train - EPOCH: 18/30\n",
      "[2024-08-11 17:22:30] INFO     : src.train - Train loss: 0.6832, Train accuracy: 0.5705\n",
      "[2024-08-11 17:22:30] INFO     : src.train - Val loss: 0.6752, Val accuracy: 0.5939\n",
      "\n",
      "[2024-08-11 17:22:32] INFO     : src.train - EPOCH: 19/30\n",
      "[2024-08-11 17:22:32] INFO     : src.train - Train loss: 0.6833, Train accuracy: 0.5732\n",
      "[2024-08-11 17:22:32] INFO     : src.train - Val loss: 0.6788, Val accuracy: 0.5939\n",
      "\n",
      "[2024-08-11 17:22:35] INFO     : src.train - EPOCH: 20/30\n",
      "[2024-08-11 17:22:35] INFO     : src.train - Train loss: 0.6834, Train accuracy: 0.5736\n",
      "[2024-08-11 17:22:35] INFO     : src.train - Val loss: 0.6831, Val accuracy: 0.5939\n",
      "\n",
      "[2024-08-11 17:22:37] INFO     : src.train - EPOCH: 21/30\n",
      "[2024-08-11 17:22:37] INFO     : src.train - Train loss: 0.6831, Train accuracy: 0.5735\n",
      "[2024-08-11 17:22:37] INFO     : src.train - Val loss: 0.6747, Val accuracy: 0.5939\n",
      "\n",
      "[2024-08-11 17:22:40] INFO     : src.train - EPOCH: 22/30\n",
      "[2024-08-11 17:22:40] INFO     : src.train - Train loss: 0.6833, Train accuracy: 0.5735\n",
      "[2024-08-11 17:22:40] INFO     : src.train - Val loss: 0.6769, Val accuracy: 0.5939\n",
      "\n",
      "[2024-08-11 17:22:42] INFO     : src.train - EPOCH: 23/30\n",
      "[2024-08-11 17:22:42] INFO     : src.train - Train loss: 0.6833, Train accuracy: 0.5735\n",
      "[2024-08-11 17:22:42] INFO     : src.train - Val loss: 0.6751, Val accuracy: 0.5939\n",
      "\n",
      "[2024-08-11 17:22:45] INFO     : src.train - EPOCH: 24/30\n",
      "[2024-08-11 17:22:45] INFO     : src.train - Train loss: 0.6833, Train accuracy: 0.5735\n",
      "[2024-08-11 17:22:45] INFO     : src.train - Val loss: 0.6747, Val accuracy: 0.5939\n",
      "\n",
      "[2024-08-11 17:22:48] INFO     : src.train - EPOCH: 25/30\n",
      "[2024-08-11 17:22:48] INFO     : src.train - Train loss: 0.6837, Train accuracy: 0.5735\n",
      "[2024-08-11 17:22:48] INFO     : src.train - Val loss: 0.6779, Val accuracy: 0.5939\n",
      "\n",
      "[2024-08-11 17:22:50] INFO     : src.train - EPOCH: 26/30\n",
      "[2024-08-11 17:22:50] INFO     : src.train - Train loss: 0.6824, Train accuracy: 0.5734\n",
      "[2024-08-11 17:22:50] INFO     : src.train - Val loss: 0.6869, Val accuracy: 0.5939\n",
      "\n",
      "[2024-08-11 17:22:53] INFO     : src.train - EPOCH: 27/30\n",
      "[2024-08-11 17:22:53] INFO     : src.train - Train loss: 0.6834, Train accuracy: 0.5728\n",
      "[2024-08-11 17:22:53] INFO     : src.train - Val loss: 0.6747, Val accuracy: 0.5939\n",
      "\n",
      "[2024-08-11 17:22:55] INFO     : src.train - EPOCH: 28/30\n",
      "[2024-08-11 17:22:55] INFO     : src.train - Train loss: 0.6827, Train accuracy: 0.5735\n",
      "[2024-08-11 17:22:55] INFO     : src.train - Val loss: 0.6807, Val accuracy: 0.5939\n",
      "\n",
      "[2024-08-11 17:22:58] INFO     : src.train - EPOCH: 29/30\n",
      "[2024-08-11 17:22:58] INFO     : src.train - Train loss: 0.6831, Train accuracy: 0.5735\n",
      "[2024-08-11 17:22:58] INFO     : src.train - Val loss: 0.6790, Val accuracy: 0.5939\n",
      "\n",
      "[2024-08-11 17:23:00] INFO     : src.train - EPOCH: 30/30\n",
      "[2024-08-11 17:23:00] INFO     : src.train - Train loss: 0.6831, Train accuracy: 0.5735\n",
      "[2024-08-11 17:23:00] INFO     : src.train - Val loss: 0.6751, Val accuracy: 0.5939\n",
      "\n",
      "[2024-08-11 17:23:01] INFO     : src.train - Evaluating network...\n",
      "[2024-08-11 17:23:01] INFO     : src.train - Accuracy from season remainder: 0.5303\n"
     ]
    },
    {
     "name": "stdout",
     "output_type": "stream",
     "text": [
      "              precision    recall  f1-score   support\n",
      "\n",
      "    AWAY_WIN       0.00      0.00      0.00       163\n",
      "    HOME_WIN       0.53      1.00      0.69       184\n",
      "\n",
      "    accuracy                           0.53       347\n",
      "   macro avg       0.27      0.50      0.35       347\n",
      "weighted avg       0.28      0.53      0.37       347\n",
      "\n"
     ]
    },
    {
     "name": "stderr",
     "output_type": "stream",
     "text": [
      "[2024-08-11 17:23:01] INFO     : src.train - Accuracy from next season: 0.5766\n"
     ]
    },
    {
     "name": "stdout",
     "output_type": "stream",
     "text": [
      "              precision    recall  f1-score   support\n",
      "\n",
      "    AWAY_WIN       0.00      0.00      0.00       445\n",
      "    HOME_WIN       0.58      1.00      0.73       606\n",
      "\n",
      "    accuracy                           0.58      1051\n",
      "   macro avg       0.29      0.50      0.37      1051\n",
      "weighted avg       0.33      0.58      0.42      1051\n",
      "\n"
     ]
    },
    {
     "name": "stderr",
     "output_type": "stream",
     "text": [
      "[2024-08-11 17:23:02] INFO     : src.train - Accuracy on short streaks (training): 0.6103\n",
      "[2024-08-11 17:23:02] INFO     : src.train - Accuracy on long streaks (training): 0.6212\n",
      "[2024-08-11 17:23:03] INFO     : src.train - Accuracy on short streaks (evaluation): 0.5649\n",
      "[2024-08-11 17:23:03] INFO     : src.train - Accuracy on long streaks (evaluation): 0.5758\n"
     ]
    }
   ],
   "source": [
    "_m, _h = run_train(\n",
    "    # fixed\n",
    "    model=rnn_model,\n",
    "    sequence_len=8,\n",
    "    data_as_sequence=False,\n",
    "    output_path=check_dir(\"te\"),\n",
    "    # adjust\n",
    "    epochs=30,\n",
    "    init_learning_rate=1e-4,\n",
    "    weight_decay=1e-5,\n",
    "    # data_use_all=True,\n",
    ")"
   ]
  },
  {
   "cell_type": "code",
   "execution_count": 4,
   "metadata": {},
   "outputs": [],
   "source": []
  }
 ],
 "metadata": {
  "kernelspec": {
   "display_name": "venv",
   "language": "python",
   "name": "python3"
  },
  "language_info": {
   "codemirror_mode": {
    "name": "ipython",
    "version": 3
   },
   "file_extension": ".py",
   "mimetype": "text/x-python",
   "name": "python",
   "nbconvert_exporter": "python",
   "pygments_lexer": "ipython3",
   "version": "3.11.7"
  }
 },
 "nbformat": 4,
 "nbformat_minor": 2
}
