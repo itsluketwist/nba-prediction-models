{
 "cells": [
  {
   "cell_type": "markdown",
   "metadata": {},
   "source": [
    "# Train the models! 👟\n",
    "\n",
    "This notebook imports training methods and models from the `src/` directory in order to train the models."
   ]
  },
  {
   "cell_type": "code",
   "execution_count": 2,
   "metadata": {},
   "outputs": [],
   "source": [
    "# configure the output directory\n",
    "import os\n",
    "\n",
    "output_dir = \"output/tcn_test\"\n",
    "\n",
    "if not os.path.exists(output_dir):\n",
    "    os.mkdir(output_dir)"
   ]
  },
  {
   "cell_type": "code",
   "execution_count": 2,
   "metadata": {},
   "outputs": [
    {
     "name": "stdout",
     "output_type": "stream",
     "text": [
      "cuda\n"
     ]
    }
   ],
   "source": [
    "# check the device\n",
    "from src.utils import device\n",
    "\n",
    "print(device)"
   ]
  },
  {
   "cell_type": "code",
   "execution_count": 4,
   "metadata": {},
   "outputs": [
    {
     "name": "stderr",
     "output_type": "stream",
     "text": [
      "[2024-07-24 20:06:24] INFO     : src.train - Loading data...\n",
      "[2024-07-24 20:06:27] INFO     : src.train - Beginning to train the network...\n",
      "[2024-07-24 20:06:30] INFO     : src.train - EPOCH: 1/30\n",
      "[2024-07-24 20:06:30] INFO     : src.train - Train loss: 4.7455, Train accuracy: 0.5175\n",
      "[2024-07-24 20:06:30] INFO     : src.train - Val loss: 0.9294, Val accuracy: 0.5520\n",
      "\n",
      "[2024-07-24 20:06:32] INFO     : src.train - EPOCH: 2/30\n",
      "[2024-07-24 20:06:32] INFO     : src.train - Train loss: 0.8089, Train accuracy: 0.5431\n",
      "[2024-07-24 20:06:32] INFO     : src.train - Val loss: 0.7181, Val accuracy: 0.5637\n",
      "\n",
      "[2024-07-24 20:06:35] INFO     : src.train - EPOCH: 3/30\n",
      "[2024-07-24 20:06:35] INFO     : src.train - Train loss: 0.7025, Train accuracy: 0.5690\n",
      "[2024-07-24 20:06:35] INFO     : src.train - Val loss: 0.6937, Val accuracy: 0.5723\n",
      "\n",
      "[2024-07-24 20:06:37] INFO     : src.train - EPOCH: 4/30\n",
      "[2024-07-24 20:06:37] INFO     : src.train - Train loss: 0.6809, Train accuracy: 0.5869\n",
      "[2024-07-24 20:06:37] INFO     : src.train - Val loss: 0.6701, Val accuracy: 0.6042\n",
      "\n",
      "[2024-07-24 20:06:39] INFO     : src.train - EPOCH: 5/30\n",
      "[2024-07-24 20:06:39] INFO     : src.train - Train loss: 0.6769, Train accuracy: 0.5906\n",
      "[2024-07-24 20:06:39] INFO     : src.train - Val loss: 0.6555, Val accuracy: 0.6146\n",
      "\n",
      "[2024-07-24 20:06:42] INFO     : src.train - EPOCH: 6/30\n",
      "[2024-07-24 20:06:42] INFO     : src.train - Train loss: 0.6637, Train accuracy: 0.6060\n",
      "[2024-07-24 20:06:42] INFO     : src.train - Val loss: 0.6769, Val accuracy: 0.6107\n",
      "\n",
      "[2024-07-24 20:06:44] INFO     : src.train - EPOCH: 7/30\n",
      "[2024-07-24 20:06:44] INFO     : src.train - Train loss: 0.6567, Train accuracy: 0.6118\n",
      "[2024-07-24 20:06:44] INFO     : src.train - Val loss: 0.6426, Val accuracy: 0.6353\n",
      "\n",
      "[2024-07-24 20:06:47] INFO     : src.train - EPOCH: 8/30\n",
      "[2024-07-24 20:06:47] INFO     : src.train - Train loss: 0.6523, Train accuracy: 0.6196\n",
      "[2024-07-24 20:06:47] INFO     : src.train - Val loss: 0.6421, Val accuracy: 0.6258\n",
      "\n",
      "[2024-07-24 20:06:49] INFO     : src.train - EPOCH: 9/30\n",
      "[2024-07-24 20:06:49] INFO     : src.train - Train loss: 0.6535, Train accuracy: 0.6172\n",
      "[2024-07-24 20:06:49] INFO     : src.train - Val loss: 0.6502, Val accuracy: 0.6224\n",
      "\n",
      "[2024-07-24 20:06:52] INFO     : src.train - EPOCH: 10/30\n",
      "[2024-07-24 20:06:52] INFO     : src.train - Train loss: 0.6480, Train accuracy: 0.6255\n",
      "[2024-07-24 20:06:52] INFO     : src.train - Val loss: 0.6401, Val accuracy: 0.6206\n",
      "\n",
      "[2024-07-24 20:06:54] INFO     : src.train - EPOCH: 11/30\n",
      "[2024-07-24 20:06:54] INFO     : src.train - Train loss: 0.6471, Train accuracy: 0.6187\n",
      "[2024-07-24 20:06:54] INFO     : src.train - Val loss: 0.6359, Val accuracy: 0.6336\n",
      "\n",
      "[2024-07-24 20:06:57] INFO     : src.train - EPOCH: 12/30\n",
      "[2024-07-24 20:06:57] INFO     : src.train - Train loss: 0.6482, Train accuracy: 0.6241\n",
      "[2024-07-24 20:06:57] INFO     : src.train - Val loss: 0.6380, Val accuracy: 0.6331\n",
      "\n",
      "[2024-07-24 20:06:59] INFO     : src.train - EPOCH: 13/30\n",
      "[2024-07-24 20:06:59] INFO     : src.train - Train loss: 0.6419, Train accuracy: 0.6293\n",
      "[2024-07-24 20:06:59] INFO     : src.train - Val loss: 0.6445, Val accuracy: 0.6254\n",
      "\n",
      "[2024-07-24 20:07:01] INFO     : src.train - EPOCH: 14/30\n",
      "[2024-07-24 20:07:01] INFO     : src.train - Train loss: 0.6471, Train accuracy: 0.6237\n",
      "[2024-07-24 20:07:01] INFO     : src.train - Val loss: 0.6289, Val accuracy: 0.6495\n",
      "\n",
      "[2024-07-24 20:07:04] INFO     : src.train - EPOCH: 15/30\n",
      "[2024-07-24 20:07:04] INFO     : src.train - Train loss: 0.6437, Train accuracy: 0.6316\n",
      "[2024-07-24 20:07:04] INFO     : src.train - Val loss: 0.6525, Val accuracy: 0.6129\n",
      "\n",
      "[2024-07-24 20:07:06] INFO     : src.train - EPOCH: 16/30\n",
      "[2024-07-24 20:07:06] INFO     : src.train - Train loss: 0.6442, Train accuracy: 0.6308\n",
      "[2024-07-24 20:07:06] INFO     : src.train - Val loss: 0.6342, Val accuracy: 0.6267\n",
      "\n",
      "[2024-07-24 20:07:08] INFO     : src.train - EPOCH: 17/30\n",
      "[2024-07-24 20:07:08] INFO     : src.train - Train loss: 0.6365, Train accuracy: 0.6418\n",
      "[2024-07-24 20:07:08] INFO     : src.train - Val loss: 0.6268, Val accuracy: 0.6409\n",
      "\n",
      "[2024-07-24 20:07:10] INFO     : src.train - EPOCH: 18/30\n",
      "[2024-07-24 20:07:10] INFO     : src.train - Train loss: 0.6396, Train accuracy: 0.6345\n",
      "[2024-07-24 20:07:10] INFO     : src.train - Val loss: 0.6296, Val accuracy: 0.6457\n",
      "\n",
      "[2024-07-24 20:07:13] INFO     : src.train - EPOCH: 19/30\n",
      "[2024-07-24 20:07:13] INFO     : src.train - Train loss: 0.6331, Train accuracy: 0.6455\n",
      "[2024-07-24 20:07:13] INFO     : src.train - Val loss: 0.6311, Val accuracy: 0.6452\n",
      "\n",
      "[2024-07-24 20:07:15] INFO     : src.train - EPOCH: 20/30\n",
      "[2024-07-24 20:07:15] INFO     : src.train - Train loss: 0.6383, Train accuracy: 0.6397\n",
      "[2024-07-24 20:07:15] INFO     : src.train - Val loss: 0.6446, Val accuracy: 0.6288\n",
      "\n",
      "[2024-07-24 20:07:17] INFO     : src.train - EPOCH: 21/30\n",
      "[2024-07-24 20:07:17] INFO     : src.train - Train loss: 0.6373, Train accuracy: 0.6366\n",
      "[2024-07-24 20:07:17] INFO     : src.train - Val loss: 0.6271, Val accuracy: 0.6383\n",
      "\n",
      "[2024-07-24 20:07:20] INFO     : src.train - EPOCH: 22/30\n",
      "[2024-07-24 20:07:20] INFO     : src.train - Train loss: 0.6358, Train accuracy: 0.6402\n",
      "[2024-07-24 20:07:20] INFO     : src.train - Val loss: 0.6275, Val accuracy: 0.6461\n",
      "\n",
      "[2024-07-24 20:07:22] INFO     : src.train - EPOCH: 23/30\n",
      "[2024-07-24 20:07:22] INFO     : src.train - Train loss: 0.6379, Train accuracy: 0.6330\n",
      "[2024-07-24 20:07:22] INFO     : src.train - Val loss: 0.6254, Val accuracy: 0.6470\n",
      "\n",
      "[2024-07-24 20:07:24] INFO     : src.train - EPOCH: 24/30\n",
      "[2024-07-24 20:07:24] INFO     : src.train - Train loss: 0.6357, Train accuracy: 0.6358\n",
      "[2024-07-24 20:07:24] INFO     : src.train - Val loss: 0.6371, Val accuracy: 0.6275\n",
      "\n",
      "[2024-07-24 20:07:27] INFO     : src.train - EPOCH: 25/30\n",
      "[2024-07-24 20:07:27] INFO     : src.train - Train loss: 0.6307, Train accuracy: 0.6428\n",
      "[2024-07-24 20:07:27] INFO     : src.train - Val loss: 0.6257, Val accuracy: 0.6495\n",
      "\n",
      "[2024-07-24 20:07:29] INFO     : src.train - EPOCH: 26/30\n",
      "[2024-07-24 20:07:29] INFO     : src.train - Train loss: 0.6304, Train accuracy: 0.6435\n",
      "[2024-07-24 20:07:29] INFO     : src.train - Val loss: 0.6338, Val accuracy: 0.6448\n",
      "\n",
      "[2024-07-24 20:07:31] INFO     : src.train - EPOCH: 27/30\n",
      "[2024-07-24 20:07:31] INFO     : src.train - Train loss: 0.6293, Train accuracy: 0.6436\n",
      "[2024-07-24 20:07:31] INFO     : src.train - Val loss: 0.6652, Val accuracy: 0.5900\n",
      "\n",
      "[2024-07-24 20:07:34] INFO     : src.train - EPOCH: 28/30\n",
      "[2024-07-24 20:07:34] INFO     : src.train - Train loss: 0.6303, Train accuracy: 0.6436\n",
      "[2024-07-24 20:07:34] INFO     : src.train - Val loss: 0.6246, Val accuracy: 0.6513\n",
      "\n",
      "[2024-07-24 20:07:36] INFO     : src.train - EPOCH: 29/30\n",
      "[2024-07-24 20:07:36] INFO     : src.train - Train loss: 0.6317, Train accuracy: 0.6402\n",
      "[2024-07-24 20:07:36] INFO     : src.train - Val loss: 0.6267, Val accuracy: 0.6444\n",
      "\n",
      "[2024-07-24 20:07:38] INFO     : src.train - EPOCH: 30/30\n",
      "[2024-07-24 20:07:38] INFO     : src.train - Train loss: 0.6249, Train accuracy: 0.6536\n",
      "[2024-07-24 20:07:38] INFO     : src.train - Val loss: 0.6219, Val accuracy: 0.6599\n",
      "\n",
      "[2024-07-24 20:07:38] INFO     : src.train - Evaluating network...\n",
      "[2024-07-24 20:07:39] INFO     : src.train - Accuracy from season remainder: 0.6254\n"
     ]
    },
    {
     "name": "stdout",
     "output_type": "stream",
     "text": [
      "              precision    recall  f1-score   support\n",
      "\n",
      "    AWAY_WIN       0.65      0.44      0.52       163\n",
      "    HOME_WIN       0.61      0.79      0.69       184\n",
      "\n",
      "    accuracy                           0.63       347\n",
      "   macro avg       0.63      0.61      0.61       347\n",
      "weighted avg       0.63      0.63      0.61       347\n",
      "\n"
     ]
    },
    {
     "name": "stderr",
     "output_type": "stream",
     "text": [
      "[2024-07-24 20:07:39] INFO     : src.train - Accuracy from next season: 0.6061\n"
     ]
    },
    {
     "name": "stdout",
     "output_type": "stream",
     "text": [
      "              precision    recall  f1-score   support\n",
      "\n",
      "    AWAY_WIN       0.55      0.40      0.46       445\n",
      "    HOME_WIN       0.63      0.76      0.69       606\n",
      "\n",
      "    accuracy                           0.61      1051\n",
      "   macro avg       0.59      0.58      0.58      1051\n",
      "weighted avg       0.60      0.61      0.59      1051\n",
      "\n"
     ]
    },
    {
     "name": "stderr",
     "output_type": "stream",
     "text": [
      "[2024-07-24 20:07:40] INFO     : src.train - Accuracy on short streaks (training): 0.5138\n",
      "[2024-07-24 20:07:40] INFO     : src.train - Accuracy on long streaks (training): 0.2761\n",
      "[2024-07-24 20:07:40] INFO     : src.train - Accuracy on short streaks (evaluation): 0.4770\n",
      "[2024-07-24 20:07:40] INFO     : src.train - Accuracy on long streaks (evaluation): 0.1515\n"
     ]
    },
    {
     "ename": "RuntimeError",
     "evalue": "Serialization of parametrized modules is only supported through state_dict(). See:\nhttps://pytorch.org/tutorials/beginner/saving_loading_models.html#saving-loading-a-general-checkpoint-for-inference-and-or-resuming-training",
     "output_type": "error",
     "traceback": [
      "\u001b[1;31m---------------------------------------------------------------------------\u001b[0m",
      "\u001b[1;31mRuntimeError\u001b[0m                              Traceback (most recent call last)",
      "Cell \u001b[1;32mIn[4], line 6\u001b[0m\n\u001b[0;32m      2\u001b[0m \u001b[38;5;28;01mfrom\u001b[39;00m \u001b[38;5;21;01msrc\u001b[39;00m\u001b[38;5;21;01m.\u001b[39;00m\u001b[38;5;21;01mmodels\u001b[39;00m \u001b[38;5;28;01mimport\u001b[39;00m TCN\n\u001b[0;32m      4\u001b[0m model \u001b[38;5;241m=\u001b[39m TCN(channels\u001b[38;5;241m=\u001b[39m[\u001b[38;5;241m32\u001b[39m, \u001b[38;5;241m8\u001b[39m])\n\u001b[1;32m----> 6\u001b[0m \u001b[43mrun_train\u001b[49m\u001b[43m(\u001b[49m\n\u001b[0;32m      7\u001b[0m \u001b[43m    \u001b[49m\u001b[43mmodel\u001b[49m\u001b[38;5;241;43m=\u001b[39;49m\u001b[43mmodel\u001b[49m\u001b[43m,\u001b[49m\n\u001b[0;32m      8\u001b[0m \u001b[43m    \u001b[49m\u001b[43msequence_len\u001b[49m\u001b[38;5;241;43m=\u001b[39;49m\u001b[38;5;241;43m10\u001b[39;49m\u001b[43m,\u001b[49m\n\u001b[0;32m      9\u001b[0m \u001b[43m    \u001b[49m\u001b[43mepochs\u001b[49m\u001b[38;5;241;43m=\u001b[39;49m\u001b[38;5;241;43m30\u001b[39;49m\u001b[43m,\u001b[49m\n\u001b[0;32m     10\u001b[0m \u001b[43m    \u001b[49m\u001b[43moutput_path\u001b[49m\u001b[38;5;241;43m=\u001b[39;49m\u001b[43moutput_dir\u001b[49m\u001b[43m,\u001b[49m\n\u001b[0;32m     11\u001b[0m \u001b[43m    \u001b[49m\u001b[43msave_return\u001b[49m\u001b[38;5;241;43m=\u001b[39;49m\u001b[38;5;28;43;01mTrue\u001b[39;49;00m\u001b[43m,\u001b[49m\n\u001b[0;32m     12\u001b[0m \u001b[43m    \u001b[49m\u001b[38;5;66;43;03m# weight_decay=1e-5,\u001b[39;49;00m\n\u001b[0;32m     13\u001b[0m \u001b[43m)\u001b[49m\n",
      "File \u001b[1;32mc:\\Users\\itslu\\code\\nba-prediction-models\\src\\train.py:197\u001b[0m, in \u001b[0;36mrun_train\u001b[1;34m(model, sequence_len, init_learning_rate, batch_size, epochs, train_split, output_path, save_return, weight_decay)\u001b[0m\n\u001b[0;32m    195\u001b[0m \u001b[38;5;28;01mif\u001b[39;00m save_return:\n\u001b[0;32m    196\u001b[0m     file_prefix \u001b[38;5;241m=\u001b[39m \u001b[38;5;124mf\u001b[39m\u001b[38;5;124m\"\u001b[39m\u001b[38;5;132;01m{\u001b[39;00moutput_path\u001b[38;5;241m.\u001b[39mrstrip(\u001b[38;5;124m'\u001b[39m\u001b[38;5;124m/\u001b[39m\u001b[38;5;124m'\u001b[39m)\u001b[38;5;132;01m}\u001b[39;00m\u001b[38;5;124m/\u001b[39m\u001b[38;5;132;01m{\u001b[39;00mmodel_name\u001b[38;5;132;01m}\u001b[39;00m\u001b[38;5;124m_\u001b[39m\u001b[38;5;132;01m{\u001b[39;00mfilename_datetime()\u001b[38;5;132;01m}\u001b[39;00m\u001b[38;5;124m\"\u001b[39m\n\u001b[1;32m--> 197\u001b[0m     \u001b[43mtorch\u001b[49m\u001b[38;5;241;43m.\u001b[39;49m\u001b[43msave\u001b[49m\u001b[43m(\u001b[49m\u001b[43mobj\u001b[49m\u001b[38;5;241;43m=\u001b[39;49m\u001b[43mmodel\u001b[49m\u001b[43m,\u001b[49m\u001b[43m \u001b[49m\u001b[43mf\u001b[49m\u001b[38;5;241;43m=\u001b[39;49m\u001b[38;5;124;43mf\u001b[39;49m\u001b[38;5;124;43m\"\u001b[39;49m\u001b[38;5;132;43;01m{\u001b[39;49;00m\u001b[43mfile_prefix\u001b[49m\u001b[38;5;132;43;01m}\u001b[39;49;00m\u001b[38;5;124;43m.pth\u001b[39;49m\u001b[38;5;124;43m\"\u001b[39;49m\u001b[43m)\u001b[49m\n\u001b[0;32m    198\u001b[0m     save_jsonl(file_path\u001b[38;5;241m=\u001b[39m\u001b[38;5;124mf\u001b[39m\u001b[38;5;124m\"\u001b[39m\u001b[38;5;132;01m{\u001b[39;00mfile_prefix\u001b[38;5;132;01m}\u001b[39;00m\u001b[38;5;124m.json\u001b[39m\u001b[38;5;124m\"\u001b[39m, data\u001b[38;5;241m=\u001b[39mhist)\n\u001b[0;32m    200\u001b[0m \u001b[38;5;28;01mreturn\u001b[39;00m model, hist\n",
      "File \u001b[1;32mc:\\Users\\itslu\\code\\nba-prediction-models\\venv\\Lib\\site-packages\\torch\\serialization.py:629\u001b[0m, in \u001b[0;36msave\u001b[1;34m(obj, f, pickle_module, pickle_protocol, _use_new_zipfile_serialization, _disable_byteorder_record)\u001b[0m\n\u001b[0;32m    627\u001b[0m \u001b[38;5;28;01mif\u001b[39;00m _use_new_zipfile_serialization:\n\u001b[0;32m    628\u001b[0m     \u001b[38;5;28;01mwith\u001b[39;00m _open_zipfile_writer(f) \u001b[38;5;28;01mas\u001b[39;00m opened_zipfile:\n\u001b[1;32m--> 629\u001b[0m         \u001b[43m_save\u001b[49m\u001b[43m(\u001b[49m\u001b[43mobj\u001b[49m\u001b[43m,\u001b[49m\u001b[43m \u001b[49m\u001b[43mopened_zipfile\u001b[49m\u001b[43m,\u001b[49m\u001b[43m \u001b[49m\u001b[43mpickle_module\u001b[49m\u001b[43m,\u001b[49m\u001b[43m \u001b[49m\u001b[43mpickle_protocol\u001b[49m\u001b[43m,\u001b[49m\u001b[43m \u001b[49m\u001b[43m_disable_byteorder_record\u001b[49m\u001b[43m)\u001b[49m\n\u001b[0;32m    630\u001b[0m         \u001b[38;5;28;01mreturn\u001b[39;00m\n\u001b[0;32m    631\u001b[0m \u001b[38;5;28;01melse\u001b[39;00m:\n",
      "File \u001b[1;32mc:\\Users\\itslu\\code\\nba-prediction-models\\venv\\Lib\\site-packages\\torch\\serialization.py:841\u001b[0m, in \u001b[0;36m_save\u001b[1;34m(obj, zip_file, pickle_module, pickle_protocol, _disable_byteorder_record)\u001b[0m\n\u001b[0;32m    839\u001b[0m pickler \u001b[38;5;241m=\u001b[39m pickle_module\u001b[38;5;241m.\u001b[39mPickler(data_buf, protocol\u001b[38;5;241m=\u001b[39mpickle_protocol)\n\u001b[0;32m    840\u001b[0m pickler\u001b[38;5;241m.\u001b[39mpersistent_id \u001b[38;5;241m=\u001b[39m persistent_id\n\u001b[1;32m--> 841\u001b[0m \u001b[43mpickler\u001b[49m\u001b[38;5;241;43m.\u001b[39;49m\u001b[43mdump\u001b[49m\u001b[43m(\u001b[49m\u001b[43mobj\u001b[49m\u001b[43m)\u001b[49m\n\u001b[0;32m    842\u001b[0m data_value \u001b[38;5;241m=\u001b[39m data_buf\u001b[38;5;241m.\u001b[39mgetvalue()\n\u001b[0;32m    843\u001b[0m zip_file\u001b[38;5;241m.\u001b[39mwrite_record(\u001b[38;5;124m'\u001b[39m\u001b[38;5;124mdata.pkl\u001b[39m\u001b[38;5;124m'\u001b[39m, data_value, \u001b[38;5;28mlen\u001b[39m(data_value))\n",
      "File \u001b[1;32mc:\\Users\\itslu\\code\\nba-prediction-models\\venv\\Lib\\site-packages\\torch\\nn\\utils\\parametrize.py:305\u001b[0m, in \u001b[0;36m_inject_new_class.<locals>.getstate\u001b[1;34m(self)\u001b[0m\n\u001b[0;32m    304\u001b[0m \u001b[38;5;28;01mdef\u001b[39;00m \u001b[38;5;21mgetstate\u001b[39m(\u001b[38;5;28mself\u001b[39m):\n\u001b[1;32m--> 305\u001b[0m     \u001b[38;5;28;01mraise\u001b[39;00m \u001b[38;5;167;01mRuntimeError\u001b[39;00m(\n\u001b[0;32m    306\u001b[0m         \u001b[38;5;124m\"\u001b[39m\u001b[38;5;124mSerialization of parametrized modules is only \u001b[39m\u001b[38;5;124m\"\u001b[39m\n\u001b[0;32m    307\u001b[0m         \u001b[38;5;124m\"\u001b[39m\u001b[38;5;124msupported through state_dict(). See:\u001b[39m\u001b[38;5;130;01m\\n\u001b[39;00m\u001b[38;5;124m\"\u001b[39m\n\u001b[0;32m    308\u001b[0m         \u001b[38;5;124m\"\u001b[39m\u001b[38;5;124mhttps://pytorch.org/tutorials/beginner/saving_loading_models.html\u001b[39m\u001b[38;5;124m\"\u001b[39m\n\u001b[0;32m    309\u001b[0m         \u001b[38;5;124m\"\u001b[39m\u001b[38;5;124m#saving-loading-a-general-checkpoint-for-inference-and-or-resuming-training\u001b[39m\u001b[38;5;124m\"\u001b[39m\n\u001b[0;32m    310\u001b[0m     )\n",
      "\u001b[1;31mRuntimeError\u001b[0m: Serialization of parametrized modules is only supported through state_dict(). See:\nhttps://pytorch.org/tutorials/beginner/saving_loading_models.html#saving-loading-a-general-checkpoint-for-inference-and-or-resuming-training"
     ]
    }
   ],
   "source": [
    "from src.train import run_train\n",
    "from src.models import TCN\n",
    "\n",
    "model = TCN(channels=[32, 8])\n",
    "\n",
    "run_train(\n",
    "    model=model,\n",
    "    sequence_len=10,\n",
    "    epochs=30,\n",
    "    output_path=output_dir,\n",
    "    save_return=True,\n",
    "    # weight_decay=1e-5,\n",
    ")"
   ]
  },
  {
   "cell_type": "code",
   "execution_count": 11,
   "metadata": {},
   "outputs": [],
   "source": [
    "# set the hyperparameters\n",
    "\n",
    "hidden_size = 128"
   ]
  },
  {
   "cell_type": "code",
   "execution_count": 3,
   "metadata": {},
   "outputs": [],
   "source": [
    "from src.models.rnn import RNN, LSTM\n",
    "from src.train import run_train"
   ]
  },
  {
   "cell_type": "markdown",
   "metadata": {},
   "source": [
    "Test:\n",
    "- learning rate\n",
    "- normalized\n",
    "- hidden size\n",
    "- regularization with `optimizer = torch.optim.Adam(model.parameters(), lr=1e-4, weight_decay=1e-5)`\n",
    "- dropout"
   ]
  },
  {
   "cell_type": "code",
   "execution_count": 4,
   "metadata": {},
   "outputs": [
    {
     "name": "stderr",
     "output_type": "stream",
     "text": [
      "c:\\Users\\itslu\\code\\nba-prediction-models\\venv\\Lib\\site-packages\\torch\\nn\\modules\\rnn.py:83: UserWarning: dropout option adds dropout after all but last recurrent layer, so non-zero dropout expects num_layers greater than 1, but got dropout=0.1 and num_layers=1\n",
      "  warnings.warn(\"dropout option adds dropout after all but last \"\n",
      "[2024-07-24 12:28:22] INFO     : src.train - Loading data...\n",
      "[2024-07-24 12:28:28] INFO     : src.train - Beginning to train the network...\n",
      "[2024-07-24 12:28:30] INFO     : src.train - EPOCH: 1/30\n",
      "[2024-07-24 12:28:30] INFO     : src.train - Train loss: 0.6860, Train accuracy: 0.5654\n",
      "[2024-07-24 12:28:30] INFO     : src.train - Val loss: 0.6700, Val accuracy: 0.5947\n",
      "\n",
      "[2024-07-24 12:28:32] INFO     : src.train - EPOCH: 2/30\n",
      "[2024-07-24 12:28:32] INFO     : src.train - Train loss: 0.6809, Train accuracy: 0.5720\n",
      "[2024-07-24 12:28:32] INFO     : src.train - Val loss: 0.6695, Val accuracy: 0.5965\n",
      "\n",
      "[2024-07-24 12:28:35] INFO     : src.train - EPOCH: 3/30\n",
      "[2024-07-24 12:28:35] INFO     : src.train - Train loss: 0.6776, Train accuracy: 0.5739\n",
      "[2024-07-24 12:28:35] INFO     : src.train - Val loss: 0.6708, Val accuracy: 0.5973\n",
      "\n",
      "[2024-07-24 12:28:37] INFO     : src.train - EPOCH: 4/30\n",
      "[2024-07-24 12:28:37] INFO     : src.train - Train loss: 0.6785, Train accuracy: 0.5775\n",
      "[2024-07-24 12:28:37] INFO     : src.train - Val loss: 0.6716, Val accuracy: 0.5956\n",
      "\n",
      "[2024-07-24 12:28:39] INFO     : src.train - EPOCH: 5/30\n",
      "[2024-07-24 12:28:39] INFO     : src.train - Train loss: 0.6787, Train accuracy: 0.5766\n",
      "[2024-07-24 12:28:39] INFO     : src.train - Val loss: 0.6740, Val accuracy: 0.5965\n",
      "\n",
      "[2024-07-24 12:28:41] INFO     : src.train - EPOCH: 6/30\n",
      "[2024-07-24 12:28:41] INFO     : src.train - Train loss: 0.6793, Train accuracy: 0.5756\n",
      "[2024-07-24 12:28:41] INFO     : src.train - Val loss: 0.6711, Val accuracy: 0.5891\n",
      "\n",
      "[2024-07-24 12:28:43] INFO     : src.train - EPOCH: 7/30\n",
      "[2024-07-24 12:28:43] INFO     : src.train - Train loss: 0.6780, Train accuracy: 0.5771\n",
      "[2024-07-24 12:28:43] INFO     : src.train - Val loss: 0.6699, Val accuracy: 0.5870\n",
      "\n",
      "[2024-07-24 12:28:46] INFO     : src.train - EPOCH: 8/30\n",
      "[2024-07-24 12:28:46] INFO     : src.train - Train loss: 0.6799, Train accuracy: 0.5743\n",
      "[2024-07-24 12:28:46] INFO     : src.train - Val loss: 0.6711, Val accuracy: 0.5995\n",
      "\n",
      "[2024-07-24 12:28:48] INFO     : src.train - EPOCH: 9/30\n",
      "[2024-07-24 12:28:48] INFO     : src.train - Train loss: 0.6772, Train accuracy: 0.5834\n",
      "[2024-07-24 12:28:48] INFO     : src.train - Val loss: 0.6817, Val accuracy: 0.5939\n",
      "\n",
      "[2024-07-24 12:28:50] INFO     : src.train - EPOCH: 10/30\n",
      "[2024-07-24 12:28:50] INFO     : src.train - Train loss: 0.6817, Train accuracy: 0.5725\n",
      "[2024-07-24 12:28:50] INFO     : src.train - Val loss: 0.6715, Val accuracy: 0.5939\n",
      "\n",
      "[2024-07-24 12:28:52] INFO     : src.train - EPOCH: 11/30\n",
      "[2024-07-24 12:28:52] INFO     : src.train - Train loss: 0.6818, Train accuracy: 0.5704\n",
      "[2024-07-24 12:28:52] INFO     : src.train - Val loss: 0.6738, Val accuracy: 0.5939\n",
      "\n",
      "[2024-07-24 12:28:54] INFO     : src.train - EPOCH: 12/30\n",
      "[2024-07-24 12:28:54] INFO     : src.train - Train loss: 0.6770, Train accuracy: 0.5747\n",
      "[2024-07-24 12:28:54] INFO     : src.train - Val loss: 0.6718, Val accuracy: 0.5865\n",
      "\n",
      "[2024-07-24 12:28:56] INFO     : src.train - EPOCH: 13/30\n",
      "[2024-07-24 12:28:56] INFO     : src.train - Train loss: 0.6781, Train accuracy: 0.5706\n",
      "[2024-07-24 12:28:56] INFO     : src.train - Val loss: 0.6693, Val accuracy: 0.5939\n",
      "\n",
      "[2024-07-24 12:28:59] INFO     : src.train - EPOCH: 14/30\n",
      "[2024-07-24 12:28:59] INFO     : src.train - Train loss: 0.6791, Train accuracy: 0.5728\n",
      "[2024-07-24 12:28:59] INFO     : src.train - Val loss: 0.6726, Val accuracy: 0.5917\n",
      "\n",
      "[2024-07-24 12:29:01] INFO     : src.train - EPOCH: 15/30\n",
      "[2024-07-24 12:29:01] INFO     : src.train - Train loss: 0.6790, Train accuracy: 0.5757\n",
      "[2024-07-24 12:29:01] INFO     : src.train - Val loss: 0.6718, Val accuracy: 0.5960\n",
      "\n",
      "[2024-07-24 12:29:03] INFO     : src.train - EPOCH: 16/30\n",
      "[2024-07-24 12:29:03] INFO     : src.train - Train loss: 0.6797, Train accuracy: 0.5656\n",
      "[2024-07-24 12:29:03] INFO     : src.train - Val loss: 0.6681, Val accuracy: 0.5986\n",
      "\n",
      "[2024-07-24 12:29:05] INFO     : src.train - EPOCH: 17/30\n",
      "[2024-07-24 12:29:05] INFO     : src.train - Train loss: 0.6755, Train accuracy: 0.5789\n",
      "[2024-07-24 12:29:05] INFO     : src.train - Val loss: 0.6709, Val accuracy: 0.5956\n",
      "\n",
      "[2024-07-24 12:29:07] INFO     : src.train - EPOCH: 18/30\n",
      "[2024-07-24 12:29:07] INFO     : src.train - Train loss: 0.6782, Train accuracy: 0.5832\n",
      "[2024-07-24 12:29:07] INFO     : src.train - Val loss: 0.6748, Val accuracy: 0.5965\n",
      "\n",
      "[2024-07-24 12:29:09] INFO     : src.train - EPOCH: 19/30\n",
      "[2024-07-24 12:29:09] INFO     : src.train - Train loss: 0.6767, Train accuracy: 0.5732\n",
      "[2024-07-24 12:29:09] INFO     : src.train - Val loss: 0.6677, Val accuracy: 0.5939\n",
      "\n",
      "[2024-07-24 12:29:11] INFO     : src.train - EPOCH: 20/30\n",
      "[2024-07-24 12:29:11] INFO     : src.train - Train loss: 0.6839, Train accuracy: 0.5680\n",
      "[2024-07-24 12:29:11] INFO     : src.train - Val loss: 0.6792, Val accuracy: 0.5874\n",
      "\n",
      "[2024-07-24 12:29:13] INFO     : src.train - EPOCH: 21/30\n",
      "[2024-07-24 12:29:13] INFO     : src.train - Train loss: 0.6781, Train accuracy: 0.5723\n",
      "[2024-07-24 12:29:13] INFO     : src.train - Val loss: 0.6690, Val accuracy: 0.5939\n",
      "\n",
      "[2024-07-24 12:29:15] INFO     : src.train - EPOCH: 22/30\n",
      "[2024-07-24 12:29:15] INFO     : src.train - Train loss: 0.6795, Train accuracy: 0.5750\n",
      "[2024-07-24 12:29:15] INFO     : src.train - Val loss: 0.6715, Val accuracy: 0.5939\n",
      "\n",
      "[2024-07-24 12:29:17] INFO     : src.train - EPOCH: 23/30\n",
      "[2024-07-24 12:29:17] INFO     : src.train - Train loss: 0.6790, Train accuracy: 0.5737\n",
      "[2024-07-24 12:29:17] INFO     : src.train - Val loss: 0.6738, Val accuracy: 0.5943\n",
      "\n",
      "[2024-07-24 12:29:20] INFO     : src.train - EPOCH: 24/30\n",
      "[2024-07-24 12:29:20] INFO     : src.train - Train loss: 0.6806, Train accuracy: 0.5738\n",
      "[2024-07-24 12:29:20] INFO     : src.train - Val loss: 0.6710, Val accuracy: 0.5939\n",
      "\n",
      "[2024-07-24 12:29:22] INFO     : src.train - EPOCH: 25/30\n",
      "[2024-07-24 12:29:22] INFO     : src.train - Train loss: 0.6758, Train accuracy: 0.5705\n",
      "[2024-07-24 12:29:22] INFO     : src.train - Val loss: 0.6708, Val accuracy: 0.5939\n",
      "\n",
      "[2024-07-24 12:29:24] INFO     : src.train - EPOCH: 26/30\n",
      "[2024-07-24 12:29:24] INFO     : src.train - Train loss: 0.6792, Train accuracy: 0.5742\n",
      "[2024-07-24 12:29:24] INFO     : src.train - Val loss: 0.6788, Val accuracy: 0.5835\n",
      "\n",
      "[2024-07-24 12:29:26] INFO     : src.train - EPOCH: 27/30\n",
      "[2024-07-24 12:29:26] INFO     : src.train - Train loss: 0.6776, Train accuracy: 0.5862\n",
      "[2024-07-24 12:29:26] INFO     : src.train - Val loss: 0.6715, Val accuracy: 0.5926\n",
      "\n",
      "[2024-07-24 12:29:28] INFO     : src.train - EPOCH: 28/30\n",
      "[2024-07-24 12:29:28] INFO     : src.train - Train loss: 0.6756, Train accuracy: 0.5846\n",
      "[2024-07-24 12:29:28] INFO     : src.train - Val loss: 0.6717, Val accuracy: 0.5939\n",
      "\n",
      "[2024-07-24 12:29:30] INFO     : src.train - EPOCH: 29/30\n",
      "[2024-07-24 12:29:30] INFO     : src.train - Train loss: 0.6794, Train accuracy: 0.5701\n",
      "[2024-07-24 12:29:30] INFO     : src.train - Val loss: 0.6741, Val accuracy: 0.5939\n",
      "\n",
      "[2024-07-24 12:29:32] INFO     : src.train - EPOCH: 30/30\n",
      "[2024-07-24 12:29:32] INFO     : src.train - Train loss: 0.6830, Train accuracy: 0.5725\n",
      "[2024-07-24 12:29:32] INFO     : src.train - Val loss: 0.6848, Val accuracy: 0.5939\n",
      "\n",
      "[2024-07-24 12:29:33] INFO     : src.train - Evaluating network...\n",
      "[2024-07-24 12:29:33] INFO     : src.train - Accuracy from season remainder: 0.5303\n"
     ]
    },
    {
     "name": "stdout",
     "output_type": "stream",
     "text": [
      "              precision    recall  f1-score   support\n",
      "\n",
      "    AWAY_WIN       0.00      0.00      0.00       163\n",
      "    HOME_WIN       0.53      1.00      0.69       184\n",
      "\n",
      "    accuracy                           0.53       347\n",
      "   macro avg       0.27      0.50      0.35       347\n",
      "weighted avg       0.28      0.53      0.37       347\n",
      "\n"
     ]
    },
    {
     "name": "stderr",
     "output_type": "stream",
     "text": [
      "[2024-07-24 12:29:33] INFO     : src.train - Accuracy from next season: 0.5766\n"
     ]
    },
    {
     "name": "stdout",
     "output_type": "stream",
     "text": [
      "              precision    recall  f1-score   support\n",
      "\n",
      "    AWAY_WIN       0.00      0.00      0.00       445\n",
      "    HOME_WIN       0.58      1.00      0.73       606\n",
      "\n",
      "    accuracy                           0.58      1051\n",
      "   macro avg       0.29      0.50      0.37      1051\n",
      "weighted avg       0.33      0.58      0.42      1051\n",
      "\n"
     ]
    },
    {
     "name": "stderr",
     "output_type": "stream",
     "text": [
      "[2024-07-24 12:29:35] INFO     : src.train - Accuracy on short streaks (training): 0.6103\n"
     ]
    },
    {
     "name": "stdout",
     "output_type": "stream",
     "text": [
      "              precision    recall  f1-score   support\n",
      "\n",
      "    AWAY_WIN       0.00      0.00      0.00       719\n",
      "    HOME_WIN       0.61      1.00      0.76      1126\n",
      "\n",
      "    accuracy                           0.61      1845\n",
      "   macro avg       0.31      0.50      0.38      1845\n",
      "weighted avg       0.37      0.61      0.46      1845\n",
      "\n"
     ]
    },
    {
     "name": "stderr",
     "output_type": "stream",
     "text": [
      "[2024-07-24 12:29:35] INFO     : src.train - Accuracy on long streaks (training): 0.6212\n",
      "[2024-07-24 12:29:36] INFO     : src.train - Accuracy on short streaks (evaluation): 0.5649\n"
     ]
    },
    {
     "name": "stdout",
     "output_type": "stream",
     "text": [
      "              precision    recall  f1-score   support\n",
      "\n",
      "    AWAY_WIN       0.00      0.00      0.00       236\n",
      "    HOME_WIN       0.62      1.00      0.77       387\n",
      "\n",
      "    accuracy                           0.62       623\n",
      "   macro avg       0.31      0.50      0.38       623\n",
      "weighted avg       0.39      0.62      0.48       623\n",
      "\n",
      "              precision    recall  f1-score   support\n",
      "\n",
      "    AWAY_WIN       0.00      0.00      0.00       104\n",
      "    HOME_WIN       0.56      1.00      0.72       135\n",
      "\n",
      "    accuracy                           0.56       239\n",
      "   macro avg       0.28      0.50      0.36       239\n",
      "weighted avg       0.32      0.56      0.41       239\n",
      "\n"
     ]
    },
    {
     "name": "stderr",
     "output_type": "stream",
     "text": [
      "[2024-07-24 12:29:36] INFO     : src.train - Accuracy on long streaks (evaluation): 0.5758\n"
     ]
    },
    {
     "name": "stdout",
     "output_type": "stream",
     "text": [
      "              precision    recall  f1-score   support\n",
      "\n",
      "    AWAY_WIN       0.00      0.00      0.00        28\n",
      "    HOME_WIN       0.58      1.00      0.73        38\n",
      "\n",
      "    accuracy                           0.58        66\n",
      "   macro avg       0.29      0.50      0.37        66\n",
      "weighted avg       0.33      0.58      0.42        66\n",
      "\n"
     ]
    },
    {
     "name": "stderr",
     "output_type": "stream",
     "text": [
      "c:\\Users\\itslu\\code\\nba-prediction-models\\venv\\Lib\\site-packages\\torch\\nn\\modules\\rnn.py:83: UserWarning: dropout option adds dropout after all but last recurrent layer, so non-zero dropout expects num_layers greater than 1, but got dropout=0.1 and num_layers=1\n",
      "  warnings.warn(\"dropout option adds dropout after all but last \"\n",
      "[2024-07-24 12:29:36] INFO     : src.train - Loading data...\n",
      "[2024-07-24 12:29:40] INFO     : src.train - Beginning to train the network...\n",
      "[2024-07-24 12:29:43] INFO     : src.train - EPOCH: 1/30\n",
      "[2024-07-24 12:29:43] INFO     : src.train - Train loss: 0.6732, Train accuracy: 0.5852\n",
      "[2024-07-24 12:29:43] INFO     : src.train - Val loss: 0.6608, Val accuracy: 0.6003\n",
      "\n",
      "[2024-07-24 12:29:46] INFO     : src.train - EPOCH: 2/30\n",
      "[2024-07-24 12:29:46] INFO     : src.train - Train loss: 0.6665, Train accuracy: 0.5978\n",
      "[2024-07-24 12:29:46] INFO     : src.train - Val loss: 0.6893, Val accuracy: 0.5270\n",
      "\n",
      "[2024-07-24 12:29:49] INFO     : src.train - EPOCH: 3/30\n",
      "[2024-07-24 12:29:49] INFO     : src.train - Train loss: 0.6675, Train accuracy: 0.5946\n",
      "[2024-07-24 12:29:49] INFO     : src.train - Val loss: 0.6533, Val accuracy: 0.6180\n",
      "\n",
      "[2024-07-24 12:29:51] INFO     : src.train - EPOCH: 4/30\n",
      "[2024-07-24 12:29:51] INFO     : src.train - Train loss: 0.6626, Train accuracy: 0.6044\n",
      "[2024-07-24 12:29:51] INFO     : src.train - Val loss: 0.6532, Val accuracy: 0.6241\n",
      "\n",
      "[2024-07-24 12:29:54] INFO     : src.train - EPOCH: 5/30\n",
      "[2024-07-24 12:29:54] INFO     : src.train - Train loss: 0.6597, Train accuracy: 0.6069\n",
      "[2024-07-24 12:29:54] INFO     : src.train - Val loss: 0.6475, Val accuracy: 0.5986\n",
      "\n",
      "[2024-07-24 12:29:56] INFO     : src.train - EPOCH: 6/30\n",
      "[2024-07-24 12:29:56] INFO     : src.train - Train loss: 0.6578, Train accuracy: 0.6044\n",
      "[2024-07-24 12:29:56] INFO     : src.train - Val loss: 0.6493, Val accuracy: 0.5952\n",
      "\n",
      "[2024-07-24 12:29:58] INFO     : src.train - EPOCH: 7/30\n",
      "[2024-07-24 12:29:58] INFO     : src.train - Train loss: 0.6562, Train accuracy: 0.6082\n",
      "[2024-07-24 12:29:58] INFO     : src.train - Val loss: 0.6449, Val accuracy: 0.6155\n",
      "\n",
      "[2024-07-24 12:30:01] INFO     : src.train - EPOCH: 8/30\n",
      "[2024-07-24 12:30:01] INFO     : src.train - Train loss: 0.6537, Train accuracy: 0.6190\n",
      "[2024-07-24 12:30:01] INFO     : src.train - Val loss: 0.6539, Val accuracy: 0.6081\n",
      "\n",
      "[2024-07-24 12:30:03] INFO     : src.train - EPOCH: 9/30\n",
      "[2024-07-24 12:30:03] INFO     : src.train - Train loss: 0.6548, Train accuracy: 0.6123\n",
      "[2024-07-24 12:30:03] INFO     : src.train - Val loss: 0.6484, Val accuracy: 0.6275\n",
      "\n",
      "[2024-07-24 12:30:06] INFO     : src.train - EPOCH: 10/30\n",
      "[2024-07-24 12:30:06] INFO     : src.train - Train loss: 0.6585, Train accuracy: 0.6110\n",
      "[2024-07-24 12:30:06] INFO     : src.train - Val loss: 0.6684, Val accuracy: 0.5939\n",
      "\n",
      "[2024-07-24 12:30:08] INFO     : src.train - EPOCH: 11/30\n",
      "[2024-07-24 12:30:08] INFO     : src.train - Train loss: 0.6604, Train accuracy: 0.6051\n",
      "[2024-07-24 12:30:08] INFO     : src.train - Val loss: 0.6490, Val accuracy: 0.6051\n",
      "\n",
      "[2024-07-24 12:30:10] INFO     : src.train - EPOCH: 12/30\n",
      "[2024-07-24 12:30:10] INFO     : src.train - Train loss: 0.6582, Train accuracy: 0.6005\n",
      "[2024-07-24 12:30:10] INFO     : src.train - Val loss: 0.6481, Val accuracy: 0.6189\n",
      "\n",
      "[2024-07-24 12:30:13] INFO     : src.train - EPOCH: 13/30\n",
      "[2024-07-24 12:30:13] INFO     : src.train - Train loss: 0.6569, Train accuracy: 0.6028\n",
      "[2024-07-24 12:30:13] INFO     : src.train - Val loss: 0.6469, Val accuracy: 0.6215\n",
      "\n",
      "[2024-07-24 12:30:15] INFO     : src.train - EPOCH: 14/30\n",
      "[2024-07-24 12:30:15] INFO     : src.train - Train loss: 0.6722, Train accuracy: 0.5894\n",
      "[2024-07-24 12:30:15] INFO     : src.train - Val loss: 0.6697, Val accuracy: 0.5999\n",
      "\n",
      "[2024-07-24 12:30:18] INFO     : src.train - EPOCH: 15/30\n",
      "[2024-07-24 12:30:18] INFO     : src.train - Train loss: 0.6739, Train accuracy: 0.5888\n",
      "[2024-07-24 12:30:18] INFO     : src.train - Val loss: 0.6715, Val accuracy: 0.5904\n",
      "\n",
      "[2024-07-24 12:30:20] INFO     : src.train - EPOCH: 16/30\n",
      "[2024-07-24 12:30:20] INFO     : src.train - Train loss: 0.6736, Train accuracy: 0.5866\n",
      "[2024-07-24 12:30:20] INFO     : src.train - Val loss: 0.6675, Val accuracy: 0.6016\n",
      "\n",
      "[2024-07-24 12:30:23] INFO     : src.train - EPOCH: 17/30\n",
      "[2024-07-24 12:30:23] INFO     : src.train - Train loss: 0.6737, Train accuracy: 0.5900\n",
      "[2024-07-24 12:30:23] INFO     : src.train - Val loss: 0.6674, Val accuracy: 0.5986\n",
      "\n",
      "[2024-07-24 12:30:25] INFO     : src.train - EPOCH: 18/30\n",
      "[2024-07-24 12:30:25] INFO     : src.train - Train loss: 0.6747, Train accuracy: 0.5846\n",
      "[2024-07-24 12:30:25] INFO     : src.train - Val loss: 0.6721, Val accuracy: 0.5952\n",
      "\n",
      "[2024-07-24 12:30:28] INFO     : src.train - EPOCH: 19/30\n",
      "[2024-07-24 12:30:28] INFO     : src.train - Train loss: 0.6733, Train accuracy: 0.5864\n",
      "[2024-07-24 12:30:28] INFO     : src.train - Val loss: 0.6709, Val accuracy: 0.5874\n",
      "\n",
      "[2024-07-24 12:30:30] INFO     : src.train - EPOCH: 20/30\n",
      "[2024-07-24 12:30:30] INFO     : src.train - Train loss: 0.6719, Train accuracy: 0.5858\n",
      "[2024-07-24 12:30:30] INFO     : src.train - Val loss: 0.6719, Val accuracy: 0.5874\n",
      "\n",
      "[2024-07-24 12:30:32] INFO     : src.train - EPOCH: 21/30\n",
      "[2024-07-24 12:30:32] INFO     : src.train - Train loss: 0.6723, Train accuracy: 0.5897\n",
      "[2024-07-24 12:30:32] INFO     : src.train - Val loss: 0.6717, Val accuracy: 0.5788\n",
      "\n",
      "[2024-07-24 12:30:35] INFO     : src.train - EPOCH: 22/30\n",
      "[2024-07-24 12:30:35] INFO     : src.train - Train loss: 0.6726, Train accuracy: 0.5786\n",
      "[2024-07-24 12:30:35] INFO     : src.train - Val loss: 0.6662, Val accuracy: 0.5956\n",
      "\n",
      "[2024-07-24 12:30:37] INFO     : src.train - EPOCH: 23/30\n",
      "[2024-07-24 12:30:37] INFO     : src.train - Train loss: 0.6730, Train accuracy: 0.5873\n",
      "[2024-07-24 12:30:37] INFO     : src.train - Val loss: 0.6700, Val accuracy: 0.5844\n",
      "\n",
      "[2024-07-24 12:30:39] INFO     : src.train - EPOCH: 24/30\n",
      "[2024-07-24 12:30:39] INFO     : src.train - Train loss: 0.6722, Train accuracy: 0.5788\n",
      "[2024-07-24 12:30:39] INFO     : src.train - Val loss: 0.6657, Val accuracy: 0.6038\n",
      "\n",
      "[2024-07-24 12:30:42] INFO     : src.train - EPOCH: 25/30\n",
      "[2024-07-24 12:30:42] INFO     : src.train - Train loss: 0.6721, Train accuracy: 0.5883\n",
      "[2024-07-24 12:30:42] INFO     : src.train - Val loss: 0.6693, Val accuracy: 0.5904\n",
      "\n",
      "[2024-07-24 12:30:44] INFO     : src.train - EPOCH: 26/30\n",
      "[2024-07-24 12:30:44] INFO     : src.train - Train loss: 0.6719, Train accuracy: 0.5905\n",
      "[2024-07-24 12:30:44] INFO     : src.train - Val loss: 0.6779, Val accuracy: 0.5719\n",
      "\n",
      "[2024-07-24 12:30:47] INFO     : src.train - EPOCH: 27/30\n",
      "[2024-07-24 12:30:47] INFO     : src.train - Train loss: 0.6734, Train accuracy: 0.5848\n",
      "[2024-07-24 12:30:47] INFO     : src.train - Val loss: 0.6694, Val accuracy: 0.5986\n",
      "\n",
      "[2024-07-24 12:30:49] INFO     : src.train - EPOCH: 28/30\n",
      "[2024-07-24 12:30:49] INFO     : src.train - Train loss: 0.6719, Train accuracy: 0.5873\n",
      "[2024-07-24 12:30:49] INFO     : src.train - Val loss: 0.6669, Val accuracy: 0.5904\n",
      "\n",
      "[2024-07-24 12:30:52] INFO     : src.train - EPOCH: 29/30\n",
      "[2024-07-24 12:30:52] INFO     : src.train - Train loss: 0.6717, Train accuracy: 0.5883\n",
      "[2024-07-24 12:30:52] INFO     : src.train - Val loss: 0.6714, Val accuracy: 0.5822\n",
      "\n",
      "[2024-07-24 12:30:55] INFO     : src.train - EPOCH: 30/30\n",
      "[2024-07-24 12:30:55] INFO     : src.train - Train loss: 0.6728, Train accuracy: 0.5760\n",
      "[2024-07-24 12:30:55] INFO     : src.train - Val loss: 0.6693, Val accuracy: 0.5887\n",
      "\n",
      "[2024-07-24 12:30:55] INFO     : src.train - Evaluating network...\n",
      "[2024-07-24 12:30:55] INFO     : src.train - Accuracy from season remainder: 0.5620\n"
     ]
    },
    {
     "name": "stdout",
     "output_type": "stream",
     "text": [
      "              precision    recall  f1-score   support\n",
      "\n",
      "    AWAY_WIN       0.69      0.12      0.21       163\n",
      "    HOME_WIN       0.55      0.95      0.70       184\n",
      "\n",
      "    accuracy                           0.56       347\n",
      "   macro avg       0.62      0.54      0.45       347\n",
      "weighted avg       0.62      0.56      0.47       347\n",
      "\n"
     ]
    },
    {
     "name": "stderr",
     "output_type": "stream",
     "text": [
      "[2024-07-24 12:30:56] INFO     : src.train - Accuracy from next season: 0.5595\n"
     ]
    },
    {
     "name": "stdout",
     "output_type": "stream",
     "text": [
      "              precision    recall  f1-score   support\n",
      "\n",
      "    AWAY_WIN       0.45      0.20      0.27       445\n",
      "    HOME_WIN       0.58      0.83      0.68       606\n",
      "\n",
      "    accuracy                           0.56      1051\n",
      "   macro avg       0.52      0.51      0.48      1051\n",
      "weighted avg       0.53      0.56      0.51      1051\n",
      "\n"
     ]
    },
    {
     "name": "stderr",
     "output_type": "stream",
     "text": [
      "[2024-07-24 12:30:57] INFO     : src.train - Accuracy on short streaks (training): 0.4591\n"
     ]
    },
    {
     "name": "stdout",
     "output_type": "stream",
     "text": [
      "              precision    recall  f1-score   support\n",
      "\n",
      "    AWAY_WIN       0.10      0.05      0.06       719\n",
      "    HOME_WIN       0.54      0.72      0.62      1126\n",
      "\n",
      "    accuracy                           0.46      1845\n",
      "   macro avg       0.32      0.38      0.34      1845\n",
      "weighted avg       0.37      0.46      0.40      1845\n",
      "\n"
     ]
    },
    {
     "name": "stderr",
     "output_type": "stream",
     "text": [
      "[2024-07-24 12:30:57] INFO     : src.train - Accuracy on long streaks (training): 0.4944\n",
      "[2024-07-24 12:30:58] INFO     : src.train - Accuracy on short streaks (evaluation): 0.4519\n"
     ]
    },
    {
     "name": "stdout",
     "output_type": "stream",
     "text": [
      "              precision    recall  f1-score   support\n",
      "\n",
      "    AWAY_WIN       0.11      0.05      0.07       236\n",
      "    HOME_WIN       0.57      0.77      0.65       387\n",
      "\n",
      "    accuracy                           0.49       623\n",
      "   macro avg       0.34      0.41      0.36       623\n",
      "weighted avg       0.39      0.49      0.43       623\n",
      "\n",
      "              precision    recall  f1-score   support\n",
      "\n",
      "    AWAY_WIN       0.14      0.05      0.07       104\n",
      "    HOME_WIN       0.51      0.76      0.61       135\n",
      "\n",
      "    accuracy                           0.45       239\n",
      "   macro avg       0.32      0.41      0.34       239\n",
      "weighted avg       0.35      0.45      0.38       239\n",
      "\n"
     ]
    },
    {
     "name": "stderr",
     "output_type": "stream",
     "text": [
      "[2024-07-24 12:30:58] INFO     : src.train - Accuracy on long streaks (evaluation): 0.4545\n"
     ]
    },
    {
     "name": "stdout",
     "output_type": "stream",
     "text": [
      "              precision    recall  f1-score   support\n",
      "\n",
      "    AWAY_WIN       0.10      0.04      0.05        28\n",
      "    HOME_WIN       0.52      0.76      0.62        38\n",
      "\n",
      "    accuracy                           0.45        66\n",
      "   macro avg       0.31      0.40      0.33        66\n",
      "weighted avg       0.34      0.45      0.38        66\n",
      "\n"
     ]
    }
   ],
   "source": [
    "for model_class in [RNN, LSTM]:  # [GRU, RNN, LSTM]:\n",
    "    for n in [10]:\n",
    "        model = model_class(hidden_size=256, dropout=0.1)\n",
    "        run_train(\n",
    "            model=model,\n",
    "            sequence_len=n,\n",
    "            epochs=30,\n",
    "            output_path=output_dir,\n",
    "            save_return=True,\n",
    "            weight_decay=1e-5,\n",
    "        )"
   ]
  },
  {
   "cell_type": "code",
   "execution_count": null,
   "metadata": {},
   "outputs": [],
   "source": []
  },
  {
   "cell_type": "code",
   "execution_count": null,
   "metadata": {},
   "outputs": [],
   "source": [
    "# utility function to work out current streak from list of results\n",
    "def current_streak(game_results: list[int]) -> int:\n",
    "    streak = 1\n",
    "    for g in game_results[1:]:\n",
    "        if g != game_results[0]:\n",
    "            break\n",
    "        streak += 1\n",
    "    return streak"
   ]
  },
  {
   "cell_type": "code",
   "execution_count": null,
   "metadata": {},
   "outputs": [],
   "source": [
    "current_streak([0, 0, 0, 0, 0, 0, 1])"
   ]
  },
  {
   "cell_type": "code",
   "execution_count": null,
   "metadata": {},
   "outputs": [],
   "source": [
    "import pandas as pd\n",
    "\n",
    "df = pd.read_parquet(\"data/parquet/evaluation_streaks_short_df.parquet\")"
   ]
  },
  {
   "cell_type": "code",
   "execution_count": null,
   "metadata": {},
   "outputs": [],
   "source": [
    "for i, x in df.iterrows():\n",
    "    print(x[\"info\"])\n",
    "    for y in x[\"data\"]:\n",
    "        print(y)\n",
    "\n",
    "    break"
   ]
  },
  {
   "cell_type": "code",
   "execution_count": 43,
   "metadata": {},
   "outputs": [
    {
     "name": "stdout",
     "output_type": "stream",
     "text": [
      "torch.Size([1, 10, 116])\n",
      "torch.Size([1, 10, 116])\n",
      "torch.Size([2, 10, 116])\n"
     ]
    }
   ],
   "source": [
    "from src.predict import load_record_from_csv\n",
    "import torch\n",
    "\n",
    "data_one = load_record_from_csv(\n",
    "    file_path=\"data/predict_csv/lac_home_win_vs_lal_2023_04_05.csv\",\n",
    ")\n",
    "data_two = load_record_from_csv(\n",
    "    file_path=\"data/predict_csv/ind_home_loss_vs_nyk_2023_04_05.csv\",\n",
    ")\n",
    "\n",
    "print(data_one.shape)\n",
    "print(data_two.shape)\n",
    "\n",
    "data = torch.cat((data_one, data_two))\n",
    "\n",
    "print(data.shape)"
   ]
  },
  {
   "cell_type": "code",
   "execution_count": 8,
   "metadata": {},
   "outputs": [],
   "source": [
    "from pytorch_tcn import TCN as _TCN\n",
    "import torch.nn as nn\n",
    "import torch\n",
    "\n",
    "\n",
    "class TCN(nn.Module):\n",
    "    \"\"\"Base class for RNN models.\"\"\"\n",
    "\n",
    "    def __init__(self, hidden_size: int, input_size: int = 116, dropout: float = 0.0):\n",
    "        super(TCN, self).__init__()\n",
    "\n",
    "        self._hidden_size = hidden_size\n",
    "        self._input_size = input_size\n",
    "        self._dropout = dropout\n",
    "        self._output_size = 1\n",
    "        self._num_layers = 1\n",
    "\n",
    "        self.tcn = _TCN(\n",
    "            num_inputs=input_size,\n",
    "            num_channels=[64, 16, 4],\n",
    "            output_projection=1,\n",
    "            output_activation=\"sigmoid\",\n",
    "            input_shape=\"NLC\",\n",
    "        )\n",
    "        # self.linear = nn.Linear(self._hidden_size, self._output_size)\n",
    "        # self.sigmoid = nn.Sigmoid()\n",
    "\n",
    "    def forward(self, input: torch.Tensor) -> torch.Tensor:\n",
    "        output = self.tcn(input)\n",
    "        output = output[:, -1, :]\n",
    "        return output\n",
    "\n",
    "    def init_zeroes(self, batch_size: int):\n",
    "        zeroes = torch.zeros(1, batch_size, self._hidden_size)\n",
    "        zeroes = zeroes.to(device)\n",
    "        return zeroes\n",
    "\n",
    "    def __repr__(self) -> str:\n",
    "        return type(self).__name__"
   ]
  },
  {
   "cell_type": "code",
   "execution_count": 51,
   "metadata": {},
   "outputs": [
    {
     "name": "stdout",
     "output_type": "stream",
     "text": [
      "torch.Size([2, 10, 116])\n",
      "torch.Size([2, 10, 4])\n",
      "tensor([[[5.3738e-01, 5.6585e-01, 5.0000e-01, 5.0000e-01],\n",
      "         [8.0683e-01, 9.2744e-01, 5.0000e-01, 5.0000e-01],\n",
      "         [1.3775e-02, 1.8514e-04, 5.0000e-01, 5.0000e-01],\n",
      "         [9.9998e-01, 1.3542e-04, 5.0000e-01, 5.0000e-01],\n",
      "         [4.8602e-09, 7.8826e-01, 5.0000e-01, 5.0000e-01],\n",
      "         [1.1819e-07, 6.4642e-06, 5.0000e-01, 5.0000e-01],\n",
      "         [7.2147e-01, 9.9929e-01, 5.0000e-01, 5.0000e-01],\n",
      "         [9.9229e-01, 7.7033e-03, 5.0000e-01, 5.0000e-01],\n",
      "         [3.7591e-02, 6.5476e-04, 5.0000e-01, 5.0000e-01],\n",
      "         [1.0000e+00, 1.0000e+00, 5.0000e-01, 5.0000e-01]],\n",
      "\n",
      "        [[4.6262e-01, 4.3415e-01, 5.0000e-01, 5.0000e-01],\n",
      "         [1.9317e-01, 7.2559e-02, 5.0000e-01, 5.0000e-01],\n",
      "         [9.8623e-01, 9.9981e-01, 5.0000e-01, 5.0000e-01],\n",
      "         [1.9689e-05, 9.9986e-01, 5.0000e-01, 5.0000e-01],\n",
      "         [1.0000e+00, 2.1174e-01, 5.0000e-01, 5.0000e-01],\n",
      "         [1.0000e+00, 9.9999e-01, 5.0000e-01, 5.0000e-01],\n",
      "         [2.7853e-01, 7.0968e-04, 5.0000e-01, 5.0000e-01],\n",
      "         [7.7079e-03, 9.9230e-01, 5.0000e-01, 5.0000e-01],\n",
      "         [9.6241e-01, 9.9935e-01, 5.0000e-01, 5.0000e-01],\n",
      "         [2.3832e-14, 2.1908e-06, 5.0000e-01, 5.0000e-01]]],\n",
      "       grad_fn=<TransposeBackward0>)\n"
     ]
    }
   ],
   "source": [
    "print(data.shape)\n",
    "\n",
    "pred = model(data)\n",
    "\n",
    "print(pred.shape)\n",
    "\n",
    "print(pred)"
   ]
  },
  {
   "cell_type": "code",
   "execution_count": 10,
   "metadata": {},
   "outputs": [
    {
     "name": "stderr",
     "output_type": "stream",
     "text": [
      "[2024-07-24 18:59:22] INFO     : src.train - Loading data...\n"
     ]
    },
    {
     "ename": "RuntimeError",
     "evalue": "CUDA error: device-side assert triggered\nCUDA kernel errors might be asynchronously reported at some other API call, so the stacktrace below might be incorrect.\nFor debugging consider passing CUDA_LAUNCH_BLOCKING=1.\nCompile with `TORCH_USE_CUDA_DSA` to enable device-side assertions.\n",
     "output_type": "error",
     "traceback": [
      "\u001b[1;31m---------------------------------------------------------------------------\u001b[0m",
      "\u001b[1;31mRuntimeError\u001b[0m                              Traceback (most recent call last)",
      "Cell \u001b[1;32mIn[10], line 5\u001b[0m\n\u001b[0;32m      1\u001b[0m \u001b[38;5;28;01mfrom\u001b[39;00m \u001b[38;5;21;01msrc\u001b[39;00m\u001b[38;5;21;01m.\u001b[39;00m\u001b[38;5;21;01mtrain\u001b[39;00m \u001b[38;5;28;01mimport\u001b[39;00m run_train\n\u001b[0;32m      3\u001b[0m model \u001b[38;5;241m=\u001b[39m TCN(hidden_size\u001b[38;5;241m=\u001b[39m\u001b[38;5;241m0\u001b[39m)\n\u001b[1;32m----> 5\u001b[0m \u001b[43mrun_train\u001b[49m\u001b[43m(\u001b[49m\n\u001b[0;32m      6\u001b[0m \u001b[43m    \u001b[49m\u001b[43mmodel\u001b[49m\u001b[38;5;241;43m=\u001b[39;49m\u001b[43mmodel\u001b[49m\u001b[43m,\u001b[49m\n\u001b[0;32m      7\u001b[0m \u001b[43m    \u001b[49m\u001b[43msequence_len\u001b[49m\u001b[38;5;241;43m=\u001b[39;49m\u001b[38;5;241;43m10\u001b[39;49m\u001b[43m,\u001b[49m\n\u001b[0;32m      8\u001b[0m \u001b[43m    \u001b[49m\u001b[43mepochs\u001b[49m\u001b[38;5;241;43m=\u001b[39;49m\u001b[38;5;241;43m30\u001b[39;49m\u001b[43m,\u001b[49m\n\u001b[0;32m      9\u001b[0m \u001b[43m    \u001b[49m\u001b[43moutput_path\u001b[49m\u001b[38;5;241;43m=\u001b[39;49m\u001b[43moutput_dir\u001b[49m\u001b[43m,\u001b[49m\n\u001b[0;32m     10\u001b[0m \u001b[43m    \u001b[49m\u001b[43msave_return\u001b[49m\u001b[38;5;241;43m=\u001b[39;49m\u001b[38;5;28;43;01mTrue\u001b[39;49;00m\u001b[43m,\u001b[49m\n\u001b[0;32m     11\u001b[0m \u001b[43m    \u001b[49m\u001b[43mweight_decay\u001b[49m\u001b[38;5;241;43m=\u001b[39;49m\u001b[38;5;241;43m1e-5\u001b[39;49m\u001b[43m,\u001b[49m\n\u001b[0;32m     12\u001b[0m \u001b[43m)\u001b[49m\n",
      "File \u001b[1;32mc:\\Users\\itslu\\code\\nba-prediction-models\\src\\train.py:91\u001b[0m, in \u001b[0;36mrun_train\u001b[1;34m(model, sequence_len, init_learning_rate, batch_size, epochs, train_split, output_path, save_return, weight_decay)\u001b[0m\n\u001b[0;32m     81\u001b[0m opt \u001b[38;5;241m=\u001b[39m Adam(\n\u001b[0;32m     82\u001b[0m     model\u001b[38;5;241m.\u001b[39mparameters(),\n\u001b[0;32m     83\u001b[0m     lr\u001b[38;5;241m=\u001b[39minit_learning_rate,\n\u001b[0;32m     84\u001b[0m     weight_decay\u001b[38;5;241m=\u001b[39mweight_decay,\n\u001b[0;32m     85\u001b[0m )  \u001b[38;5;66;03m# init optimizer\u001b[39;00m\n\u001b[0;32m     86\u001b[0m hist \u001b[38;5;241m=\u001b[39m History(\n\u001b[0;32m     87\u001b[0m     model_name\u001b[38;5;241m=\u001b[39m\u001b[38;5;28mstr\u001b[39m(model),\n\u001b[0;32m     88\u001b[0m     sequence_len\u001b[38;5;241m=\u001b[39msequence_len,\n\u001b[0;32m     89\u001b[0m )  \u001b[38;5;66;03m# init history class\u001b[39;00m\n\u001b[1;32m---> 91\u001b[0m model \u001b[38;5;241m=\u001b[39m \u001b[43mmodel\u001b[49m\u001b[38;5;241;43m.\u001b[39;49m\u001b[43mto\u001b[49m\u001b[43m(\u001b[49m\u001b[43mdevice\u001b[49m\u001b[43m)\u001b[49m\n\u001b[0;32m     93\u001b[0m logger\u001b[38;5;241m.\u001b[39minfo(\u001b[38;5;124m\"\u001b[39m\u001b[38;5;124mBeginning to train the network...\u001b[39m\u001b[38;5;124m\"\u001b[39m)\n\u001b[0;32m     94\u001b[0m \u001b[38;5;28;01mfor\u001b[39;00m e \u001b[38;5;129;01min\u001b[39;00m \u001b[38;5;28mrange\u001b[39m(\u001b[38;5;241m0\u001b[39m, epochs):\n",
      "File \u001b[1;32mc:\\Users\\itslu\\code\\nba-prediction-models\\venv\\Lib\\site-packages\\torch\\nn\\modules\\module.py:1152\u001b[0m, in \u001b[0;36mModule.to\u001b[1;34m(self, *args, **kwargs)\u001b[0m\n\u001b[0;32m   1148\u001b[0m         \u001b[38;5;28;01mreturn\u001b[39;00m t\u001b[38;5;241m.\u001b[39mto(device, dtype \u001b[38;5;28;01mif\u001b[39;00m t\u001b[38;5;241m.\u001b[39mis_floating_point() \u001b[38;5;129;01mor\u001b[39;00m t\u001b[38;5;241m.\u001b[39mis_complex() \u001b[38;5;28;01melse\u001b[39;00m \u001b[38;5;28;01mNone\u001b[39;00m,\n\u001b[0;32m   1149\u001b[0m                     non_blocking, memory_format\u001b[38;5;241m=\u001b[39mconvert_to_format)\n\u001b[0;32m   1150\u001b[0m     \u001b[38;5;28;01mreturn\u001b[39;00m t\u001b[38;5;241m.\u001b[39mto(device, dtype \u001b[38;5;28;01mif\u001b[39;00m t\u001b[38;5;241m.\u001b[39mis_floating_point() \u001b[38;5;129;01mor\u001b[39;00m t\u001b[38;5;241m.\u001b[39mis_complex() \u001b[38;5;28;01melse\u001b[39;00m \u001b[38;5;28;01mNone\u001b[39;00m, non_blocking)\n\u001b[1;32m-> 1152\u001b[0m \u001b[38;5;28;01mreturn\u001b[39;00m \u001b[38;5;28;43mself\u001b[39;49m\u001b[38;5;241;43m.\u001b[39;49m\u001b[43m_apply\u001b[49m\u001b[43m(\u001b[49m\u001b[43mconvert\u001b[49m\u001b[43m)\u001b[49m\n",
      "File \u001b[1;32mc:\\Users\\itslu\\code\\nba-prediction-models\\venv\\Lib\\site-packages\\torch\\nn\\modules\\module.py:802\u001b[0m, in \u001b[0;36mModule._apply\u001b[1;34m(self, fn, recurse)\u001b[0m\n\u001b[0;32m    800\u001b[0m \u001b[38;5;28;01mif\u001b[39;00m recurse:\n\u001b[0;32m    801\u001b[0m     \u001b[38;5;28;01mfor\u001b[39;00m module \u001b[38;5;129;01min\u001b[39;00m \u001b[38;5;28mself\u001b[39m\u001b[38;5;241m.\u001b[39mchildren():\n\u001b[1;32m--> 802\u001b[0m         \u001b[43mmodule\u001b[49m\u001b[38;5;241;43m.\u001b[39;49m\u001b[43m_apply\u001b[49m\u001b[43m(\u001b[49m\u001b[43mfn\u001b[49m\u001b[43m)\u001b[49m\n\u001b[0;32m    804\u001b[0m \u001b[38;5;28;01mdef\u001b[39;00m \u001b[38;5;21mcompute_should_use_set_data\u001b[39m(tensor, tensor_applied):\n\u001b[0;32m    805\u001b[0m     \u001b[38;5;28;01mif\u001b[39;00m torch\u001b[38;5;241m.\u001b[39m_has_compatible_shallow_copy_type(tensor, tensor_applied):\n\u001b[0;32m    806\u001b[0m         \u001b[38;5;66;03m# If the new tensor has compatible tensor type as the existing tensor,\u001b[39;00m\n\u001b[0;32m    807\u001b[0m         \u001b[38;5;66;03m# the current behavior is to change the tensor in-place using `.data =`,\u001b[39;00m\n\u001b[1;32m   (...)\u001b[0m\n\u001b[0;32m    812\u001b[0m         \u001b[38;5;66;03m# global flag to let the user control whether they want the future\u001b[39;00m\n\u001b[0;32m    813\u001b[0m         \u001b[38;5;66;03m# behavior of overwriting the existing tensor or not.\u001b[39;00m\n",
      "File \u001b[1;32mc:\\Users\\itslu\\code\\nba-prediction-models\\venv\\Lib\\site-packages\\torch\\nn\\modules\\module.py:802\u001b[0m, in \u001b[0;36mModule._apply\u001b[1;34m(self, fn, recurse)\u001b[0m\n\u001b[0;32m    800\u001b[0m \u001b[38;5;28;01mif\u001b[39;00m recurse:\n\u001b[0;32m    801\u001b[0m     \u001b[38;5;28;01mfor\u001b[39;00m module \u001b[38;5;129;01min\u001b[39;00m \u001b[38;5;28mself\u001b[39m\u001b[38;5;241m.\u001b[39mchildren():\n\u001b[1;32m--> 802\u001b[0m         \u001b[43mmodule\u001b[49m\u001b[38;5;241;43m.\u001b[39;49m\u001b[43m_apply\u001b[49m\u001b[43m(\u001b[49m\u001b[43mfn\u001b[49m\u001b[43m)\u001b[49m\n\u001b[0;32m    804\u001b[0m \u001b[38;5;28;01mdef\u001b[39;00m \u001b[38;5;21mcompute_should_use_set_data\u001b[39m(tensor, tensor_applied):\n\u001b[0;32m    805\u001b[0m     \u001b[38;5;28;01mif\u001b[39;00m torch\u001b[38;5;241m.\u001b[39m_has_compatible_shallow_copy_type(tensor, tensor_applied):\n\u001b[0;32m    806\u001b[0m         \u001b[38;5;66;03m# If the new tensor has compatible tensor type as the existing tensor,\u001b[39;00m\n\u001b[0;32m    807\u001b[0m         \u001b[38;5;66;03m# the current behavior is to change the tensor in-place using `.data =`,\u001b[39;00m\n\u001b[1;32m   (...)\u001b[0m\n\u001b[0;32m    812\u001b[0m         \u001b[38;5;66;03m# global flag to let the user control whether they want the future\u001b[39;00m\n\u001b[0;32m    813\u001b[0m         \u001b[38;5;66;03m# behavior of overwriting the existing tensor or not.\u001b[39;00m\n",
      "    \u001b[1;31m[... skipping similar frames: Module._apply at line 802 (3 times)]\u001b[0m\n",
      "File \u001b[1;32mc:\\Users\\itslu\\code\\nba-prediction-models\\venv\\Lib\\site-packages\\torch\\nn\\modules\\module.py:802\u001b[0m, in \u001b[0;36mModule._apply\u001b[1;34m(self, fn, recurse)\u001b[0m\n\u001b[0;32m    800\u001b[0m \u001b[38;5;28;01mif\u001b[39;00m recurse:\n\u001b[0;32m    801\u001b[0m     \u001b[38;5;28;01mfor\u001b[39;00m module \u001b[38;5;129;01min\u001b[39;00m \u001b[38;5;28mself\u001b[39m\u001b[38;5;241m.\u001b[39mchildren():\n\u001b[1;32m--> 802\u001b[0m         \u001b[43mmodule\u001b[49m\u001b[38;5;241;43m.\u001b[39;49m\u001b[43m_apply\u001b[49m\u001b[43m(\u001b[49m\u001b[43mfn\u001b[49m\u001b[43m)\u001b[49m\n\u001b[0;32m    804\u001b[0m \u001b[38;5;28;01mdef\u001b[39;00m \u001b[38;5;21mcompute_should_use_set_data\u001b[39m(tensor, tensor_applied):\n\u001b[0;32m    805\u001b[0m     \u001b[38;5;28;01mif\u001b[39;00m torch\u001b[38;5;241m.\u001b[39m_has_compatible_shallow_copy_type(tensor, tensor_applied):\n\u001b[0;32m    806\u001b[0m         \u001b[38;5;66;03m# If the new tensor has compatible tensor type as the existing tensor,\u001b[39;00m\n\u001b[0;32m    807\u001b[0m         \u001b[38;5;66;03m# the current behavior is to change the tensor in-place using `.data =`,\u001b[39;00m\n\u001b[1;32m   (...)\u001b[0m\n\u001b[0;32m    812\u001b[0m         \u001b[38;5;66;03m# global flag to let the user control whether they want the future\u001b[39;00m\n\u001b[0;32m    813\u001b[0m         \u001b[38;5;66;03m# behavior of overwriting the existing tensor or not.\u001b[39;00m\n",
      "File \u001b[1;32mc:\\Users\\itslu\\code\\nba-prediction-models\\venv\\Lib\\site-packages\\torch\\nn\\modules\\module.py:825\u001b[0m, in \u001b[0;36mModule._apply\u001b[1;34m(self, fn, recurse)\u001b[0m\n\u001b[0;32m    821\u001b[0m \u001b[38;5;66;03m# Tensors stored in modules are graph leaves, and we don't want to\u001b[39;00m\n\u001b[0;32m    822\u001b[0m \u001b[38;5;66;03m# track autograd history of `param_applied`, so we have to use\u001b[39;00m\n\u001b[0;32m    823\u001b[0m \u001b[38;5;66;03m# `with torch.no_grad():`\u001b[39;00m\n\u001b[0;32m    824\u001b[0m \u001b[38;5;28;01mwith\u001b[39;00m torch\u001b[38;5;241m.\u001b[39mno_grad():\n\u001b[1;32m--> 825\u001b[0m     param_applied \u001b[38;5;241m=\u001b[39m \u001b[43mfn\u001b[49m\u001b[43m(\u001b[49m\u001b[43mparam\u001b[49m\u001b[43m)\u001b[49m\n\u001b[0;32m    826\u001b[0m should_use_set_data \u001b[38;5;241m=\u001b[39m compute_should_use_set_data(param, param_applied)\n\u001b[0;32m    827\u001b[0m \u001b[38;5;28;01mif\u001b[39;00m should_use_set_data:\n",
      "File \u001b[1;32mc:\\Users\\itslu\\code\\nba-prediction-models\\venv\\Lib\\site-packages\\torch\\nn\\modules\\module.py:1150\u001b[0m, in \u001b[0;36mModule.to.<locals>.convert\u001b[1;34m(t)\u001b[0m\n\u001b[0;32m   1147\u001b[0m \u001b[38;5;28;01mif\u001b[39;00m convert_to_format \u001b[38;5;129;01mis\u001b[39;00m \u001b[38;5;129;01mnot\u001b[39;00m \u001b[38;5;28;01mNone\u001b[39;00m \u001b[38;5;129;01mand\u001b[39;00m t\u001b[38;5;241m.\u001b[39mdim() \u001b[38;5;129;01min\u001b[39;00m (\u001b[38;5;241m4\u001b[39m, \u001b[38;5;241m5\u001b[39m):\n\u001b[0;32m   1148\u001b[0m     \u001b[38;5;28;01mreturn\u001b[39;00m t\u001b[38;5;241m.\u001b[39mto(device, dtype \u001b[38;5;28;01mif\u001b[39;00m t\u001b[38;5;241m.\u001b[39mis_floating_point() \u001b[38;5;129;01mor\u001b[39;00m t\u001b[38;5;241m.\u001b[39mis_complex() \u001b[38;5;28;01melse\u001b[39;00m \u001b[38;5;28;01mNone\u001b[39;00m,\n\u001b[0;32m   1149\u001b[0m                 non_blocking, memory_format\u001b[38;5;241m=\u001b[39mconvert_to_format)\n\u001b[1;32m-> 1150\u001b[0m \u001b[38;5;28;01mreturn\u001b[39;00m \u001b[43mt\u001b[49m\u001b[38;5;241;43m.\u001b[39;49m\u001b[43mto\u001b[49m\u001b[43m(\u001b[49m\u001b[43mdevice\u001b[49m\u001b[43m,\u001b[49m\u001b[43m \u001b[49m\u001b[43mdtype\u001b[49m\u001b[43m \u001b[49m\u001b[38;5;28;43;01mif\u001b[39;49;00m\u001b[43m \u001b[49m\u001b[43mt\u001b[49m\u001b[38;5;241;43m.\u001b[39;49m\u001b[43mis_floating_point\u001b[49m\u001b[43m(\u001b[49m\u001b[43m)\u001b[49m\u001b[43m \u001b[49m\u001b[38;5;129;43;01mor\u001b[39;49;00m\u001b[43m \u001b[49m\u001b[43mt\u001b[49m\u001b[38;5;241;43m.\u001b[39;49m\u001b[43mis_complex\u001b[49m\u001b[43m(\u001b[49m\u001b[43m)\u001b[49m\u001b[43m \u001b[49m\u001b[38;5;28;43;01melse\u001b[39;49;00m\u001b[43m \u001b[49m\u001b[38;5;28;43;01mNone\u001b[39;49;00m\u001b[43m,\u001b[49m\u001b[43m \u001b[49m\u001b[43mnon_blocking\u001b[49m\u001b[43m)\u001b[49m\n",
      "\u001b[1;31mRuntimeError\u001b[0m: CUDA error: device-side assert triggered\nCUDA kernel errors might be asynchronously reported at some other API call, so the stacktrace below might be incorrect.\nFor debugging consider passing CUDA_LAUNCH_BLOCKING=1.\nCompile with `TORCH_USE_CUDA_DSA` to enable device-side assertions.\n"
     ]
    }
   ],
   "source": [
    "from src.train import run_train\n",
    "\n",
    "model = TCN(hidden_size=0)\n",
    "\n",
    "run_train(\n",
    "    model=model,\n",
    "    sequence_len=10,\n",
    "    epochs=30,\n",
    "    output_path=output_dir,\n",
    "    save_return=True,\n",
    "    weight_decay=1e-5,\n",
    ")"
   ]
  }
 ],
 "metadata": {
  "kernelspec": {
   "display_name": "venv",
   "language": "python",
   "name": "python3"
  },
  "language_info": {
   "codemirror_mode": {
    "name": "ipython",
    "version": 3
   },
   "file_extension": ".py",
   "mimetype": "text/x-python",
   "name": "python",
   "nbconvert_exporter": "python",
   "pygments_lexer": "ipython3",
   "version": "3.11.7"
  }
 },
 "nbformat": 4,
 "nbformat_minor": 2
}
